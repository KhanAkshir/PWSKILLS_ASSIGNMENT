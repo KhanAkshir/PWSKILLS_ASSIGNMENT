{
 "cells": [
  {
   "cell_type": "code",
   "execution_count": 25,
   "id": "8c807487-8263-427a-b203-133ce5bd77e2",
   "metadata": {},
   "outputs": [],
   "source": [
    "#Answers of question are given with respective question number"
   ]
  },
  {
   "cell_type": "code",
   "execution_count": 26,
   "id": "160748d9-472a-45f8-a756-d94a025afba3",
   "metadata": {},
   "outputs": [],
   "source": [
    "#Question 1: \n",
    "#Ans:- 'def' keyword is used to create function.\n",
    "\n",
    "def odd_numbers():\n",
    "    l=[i for i in range(1,25) if i%2!=0];\n",
    "    return l;"
   ]
  },
  {
   "cell_type": "code",
   "execution_count": 36,
   "id": "67bda756-e6da-4d55-8abf-43cac4b2bb56",
   "metadata": {},
   "outputs": [
    {
     "data": {
      "text/plain": [
       "[1, 3, 5, 7, 9, 11, 13, 15, 17, 19, 21, 23]"
      ]
     },
     "execution_count": 36,
     "metadata": {},
     "output_type": "execute_result"
    }
   ],
   "source": [
    " odd_numbers()"
   ]
  },
  {
   "cell_type": "code",
   "execution_count": null,
   "id": "216a48ea-7886-446f-890f-84b8b395df6f",
   "metadata": {},
   "outputs": [],
   "source": []
  },
  {
   "cell_type": "code",
   "execution_count": 98,
   "id": "6aad60bf-318e-4b6a-87d8-319f69804b05",
   "metadata": {},
   "outputs": [],
   "source": [
    "#question 2\n",
    "# Python has *args which allow us to pass the variable number of non keyword arguments to function.\n",
    "def show(*args):\n",
    "    return args;"
   ]
  },
  {
   "cell_type": "code",
   "execution_count": 99,
   "id": "d655a822-e732-4ab9-af9e-129e124bb0c2",
   "metadata": {},
   "outputs": [
    {
     "data": {
      "text/plain": [
       "(1, 2, 3, 4, 5, 6, 'akshir', 'here')"
      ]
     },
     "execution_count": 99,
     "metadata": {},
     "output_type": "execute_result"
    }
   ],
   "source": [
    "show(1,2,3,4,5,6 ,\"akshir\",\"here\")"
   ]
  },
  {
   "cell_type": "code",
   "execution_count": 100,
   "id": "b03fc4c7-9f6c-4e6b-a95f-292a178b8012",
   "metadata": {},
   "outputs": [],
   "source": [
    "# **kwargs, it allows us to pass the variable length of keyword arguments to the function.\n",
    "def showk(**kwargs):\n",
    "    return kwargs"
   ]
  },
  {
   "cell_type": "code",
   "execution_count": 48,
   "id": "d843c532-ff80-4fdc-a207-36f2fbafcaba",
   "metadata": {},
   "outputs": [
    {
     "data": {
      "text/plain": [
       "{'name': 'Akshir',\n",
       " 'Course': 'DSM',\n",
       " 'Marks_needed': 'full',\n",
       " 'Greetings': 'Thanks'}"
      ]
     },
     "execution_count": 48,
     "metadata": {},
     "output_type": "execute_result"
    }
   ],
   "source": [
    "showk(name=\"Akshir\",Course=\"DSM\",Marks_needed=\"full\",Greetings=\"Thanks\")"
   ]
  },
  {
   "cell_type": "code",
   "execution_count": null,
   "id": "abaa0cc8-f1d3-4bbc-a99c-765e6ae89782",
   "metadata": {},
   "outputs": [],
   "source": []
  },
  {
   "cell_type": "code",
   "execution_count": 1,
   "id": "8e779055-459a-4c54-b502-434dd7793592",
   "metadata": {},
   "outputs": [],
   "source": [
    "# #Q3. What is an iterator in python? Name the method used to initialise the iterator object and the method\n",
    "# used for iteration. Use these methods to print the first five elements of the given list [2, 4, 6, 8, 10, 12, 14,\n",
    "# 16, 18, 20]."
   ]
  },
  {
   "cell_type": "code",
   "execution_count": 12,
   "id": "270d5dab-fd07-4191-953c-b5b9768b9006",
   "metadata": {},
   "outputs": [
    {
     "name": "stdout",
     "output_type": "stream",
     "text": [
      "2\n",
      "4\n",
      "6\n",
      "8\n",
      "10\n"
     ]
    }
   ],
   "source": [
    "# Iterator in Python is an object that is used to iterate over iterable objects like lists, tuples, dicts, and sets. The iterator object is initialized using the iter() method. It uses the next() method for iteration.\n",
    "l=[2, 4, 6, 8, 10, 12, 14,16, 18, 20]\n",
    "k=iter(l)\n",
    "# print(type(k))\n",
    "for i in range(5):\n",
    "    print(next(k))"
   ]
  },
  {
   "cell_type": "code",
   "execution_count": null,
   "id": "4ad1b842-47fe-40be-885c-6f904926d00f",
   "metadata": {},
   "outputs": [],
   "source": []
  },
  {
   "cell_type": "code",
   "execution_count": 15,
   "id": "0d4cf623-bb2b-4496-9cba-e11b92db40e2",
   "metadata": {},
   "outputs": [],
   "source": [
    "#Q4\n",
    "# In Python, a generator is a function that returns an iterator that produces a sequence of values when iterated over.\n",
    "# Generators are useful when we want to produce a large sequence of values, but we don't want to store all of them in memory at once.\n",
    "#yield is a keyword that is used like return, except the function will return a generator."
   ]
  },
  {
   "cell_type": "code",
   "execution_count": 22,
   "id": "0b131655-b509-4d2e-aa31-7c43e94377d7",
   "metadata": {},
   "outputs": [],
   "source": [
    "#example\n",
    "def gene(l):\n",
    "    for i in l:\n",
    "        yield i;"
   ]
  },
  {
   "cell_type": "code",
   "execution_count": 25,
   "id": "2c0be58f-a856-49a2-80e3-0df47aa2378e",
   "metadata": {},
   "outputs": [
    {
     "data": {
      "text/plain": [
       "['a', 'k']"
      ]
     },
     "execution_count": 25,
     "metadata": {},
     "output_type": "execute_result"
    }
   ],
   "source": [
    "list(gene(\"ak\"))"
   ]
  },
  {
   "cell_type": "code",
   "execution_count": null,
   "id": "a073fd6a-f1e1-4c34-8c2c-dcde33ed37df",
   "metadata": {},
   "outputs": [],
   "source": []
  },
  {
   "cell_type": "code",
   "execution_count": 41,
   "id": "4b57cb17-3ea8-4cf5-9fa4-c9eb879e4e15",
   "metadata": {},
   "outputs": [],
   "source": [
    "#question 5\n",
    "from math import sqrt\n",
    "\n",
    "def is_prime(n):\n",
    "    if (n <= 1):\n",
    "        return False\n",
    "    if (n == 2):\n",
    "        return True\n",
    "    if (n % 2 == 0):\n",
    "        return False\n",
    "\n",
    "    i = 3\n",
    "    while i <= sqrt(n):\n",
    "        if n % i == 0:\n",
    "            return False\n",
    "        i = i + 2\n",
    "\n",
    "    return True\n",
    "        "
   ]
  },
  {
   "cell_type": "code",
   "execution_count": 42,
   "id": "6f132154-b5ee-4336-bb11-c35d51103471",
   "metadata": {},
   "outputs": [],
   "source": [
    "def prime_gen():\n",
    "    for i in range(1000):\n",
    "        i+=1\n",
    "        if is_prime(i):\n",
    "            yield i;"
   ]
  },
  {
   "cell_type": "code",
   "execution_count": 43,
   "id": "510cc838-5bd6-448e-84e0-8a70fa8aac6d",
   "metadata": {},
   "outputs": [],
   "source": [
    "gen=prime_gen()"
   ]
  },
  {
   "cell_type": "code",
   "execution_count": 44,
   "id": "5e2247df-2549-47c9-8afd-3b33e45eddd8",
   "metadata": {},
   "outputs": [
    {
     "name": "stdout",
     "output_type": "stream",
     "text": [
      "2\n",
      "3\n",
      "5\n",
      "7\n",
      "11\n",
      "13\n",
      "17\n",
      "19\n",
      "23\n",
      "29\n",
      "31\n",
      "37\n",
      "41\n",
      "43\n",
      "47\n",
      "53\n",
      "59\n",
      "61\n",
      "67\n",
      "71\n"
     ]
    }
   ],
   "source": [
    "for i in range(20):\n",
    "    print(next(gen))"
   ]
  },
  {
   "cell_type": "code",
   "execution_count": null,
   "id": "6b5fb6c3-3a4e-417b-b8c7-46566ca5412f",
   "metadata": {},
   "outputs": [],
   "source": []
  },
  {
   "cell_type": "code",
   "execution_count": 51,
   "id": "98aeee36-e053-4d86-b984-aaeda987e4da",
   "metadata": {},
   "outputs": [],
   "source": [
    "#question 6\n",
    "def fibo(n=10):\n",
    "    i=0;\n",
    "    n1=0;\n",
    "    n2=1;\n",
    "    while i<n:\n",
    "        print(n1);\n",
    "        n1,n2=n2,n2+n1;\n",
    "        i+=1;"
   ]
  },
  {
   "cell_type": "code",
   "execution_count": 52,
   "id": "89fe219a-9afa-406a-9598-4268b292c66d",
   "metadata": {},
   "outputs": [
    {
     "name": "stdout",
     "output_type": "stream",
     "text": [
      "0\n",
      "1\n",
      "1\n",
      "2\n",
      "3\n",
      "5\n",
      "8\n",
      "13\n",
      "21\n",
      "34\n"
     ]
    }
   ],
   "source": [
    "fibo()"
   ]
  },
  {
   "cell_type": "code",
   "execution_count": null,
   "id": "72d1b7ce-ebd9-4e8a-90d6-7cffb61d2aa9",
   "metadata": {},
   "outputs": [],
   "source": []
  },
  {
   "cell_type": "code",
   "execution_count": 53,
   "id": "1f8fb561-a7ca-4205-847c-9a1afab068bb",
   "metadata": {},
   "outputs": [
    {
     "data": {
      "text/plain": [
       "['p', 'w', 's', 'k', 'i', 'l', 'l', 's']"
      ]
     },
     "execution_count": 53,
     "metadata": {},
     "output_type": "execute_result"
    }
   ],
   "source": [
    "# question 7\n",
    "l=[i for i in \"pwskills\"]\n",
    "l"
   ]
  },
  {
   "cell_type": "code",
   "execution_count": null,
   "id": "89ffbece-5d0d-475c-885d-14beed647c31",
   "metadata": {},
   "outputs": [],
   "source": []
  },
  {
   "cell_type": "code",
   "execution_count": 85,
   "id": "5f1fc750-c7c4-41da-aea2-c6bfcfc3ba5b",
   "metadata": {},
   "outputs": [],
   "source": [
    "# question 8\n",
    "def is_num_palindrome(num):\n",
    "    rev=0;\n",
    "    n=num;\n",
    "    while n>0:\n",
    "        dig=n%10;\n",
    "        rev=rev*10+dig;\n",
    "        n=n//10;\n",
    "    if rev==num:\n",
    "        print(\"YES\");\n",
    "    else:\n",
    "        print(\"NO\")"
   ]
  },
  {
   "cell_type": "code",
   "execution_count": 86,
   "id": "3b000408-261a-4598-b685-c39dd3bf6a23",
   "metadata": {},
   "outputs": [
    {
     "name": "stdout",
     "output_type": "stream",
     "text": [
      "NO\n"
     ]
    }
   ],
   "source": [
    "is_num_palindrome(90)"
   ]
  },
  {
   "cell_type": "code",
   "execution_count": null,
   "id": "e59f6dbb-b20f-47dc-9a2c-cdac43ec21b7",
   "metadata": {},
   "outputs": [],
   "source": []
  },
  {
   "cell_type": "code",
   "execution_count": 87,
   "id": "1fe03c0b-99c3-4763-8879-a092133846b9",
   "metadata": {},
   "outputs": [],
   "source": [
    "#question 9\n",
    "l=[i for i in range(101)]"
   ]
  },
  {
   "cell_type": "code",
   "execution_count": 93,
   "id": "efd087fb-f6d6-49c7-9fec-9d61757aa5bc",
   "metadata": {},
   "outputs": [],
   "source": [
    " final_list=[i for i in l if i%2!=0]"
   ]
  },
  {
   "cell_type": "code",
   "execution_count": 95,
   "id": "6d573aec-7ac1-4cb1-b916-09d549a0f0a0",
   "metadata": {},
   "outputs": [
    {
     "data": {
      "text/plain": [
       "[1,\n",
       " 3,\n",
       " 5,\n",
       " 7,\n",
       " 9,\n",
       " 11,\n",
       " 13,\n",
       " 15,\n",
       " 17,\n",
       " 19,\n",
       " 21,\n",
       " 23,\n",
       " 25,\n",
       " 27,\n",
       " 29,\n",
       " 31,\n",
       " 33,\n",
       " 35,\n",
       " 37,\n",
       " 39,\n",
       " 41,\n",
       " 43,\n",
       " 45,\n",
       " 47,\n",
       " 49,\n",
       " 51,\n",
       " 53,\n",
       " 55,\n",
       " 57,\n",
       " 59,\n",
       " 61,\n",
       " 63,\n",
       " 65,\n",
       " 67,\n",
       " 69,\n",
       " 71,\n",
       " 73,\n",
       " 75,\n",
       " 77,\n",
       " 79,\n",
       " 81,\n",
       " 83,\n",
       " 85,\n",
       " 87,\n",
       " 89,\n",
       " 91,\n",
       " 93,\n",
       " 95,\n",
       " 97,\n",
       " 99]"
      ]
     },
     "execution_count": 95,
     "metadata": {},
     "output_type": "execute_result"
    }
   ],
   "source": [
    "final_list"
   ]
  }
 ],
 "metadata": {
  "kernelspec": {
   "display_name": "Python 3 (ipykernel)",
   "language": "python",
   "name": "python3"
  },
  "language_info": {
   "codemirror_mode": {
    "name": "ipython",
    "version": 3
   },
   "file_extension": ".py",
   "mimetype": "text/x-python",
   "name": "python",
   "nbconvert_exporter": "python",
   "pygments_lexer": "ipython3",
   "version": "3.10.8"
  }
 },
 "nbformat": 4,
 "nbformat_minor": 5
}
