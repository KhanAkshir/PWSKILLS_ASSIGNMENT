{
 "cells": [
  {
   "cell_type": "code",
   "execution_count": null,
   "id": "c03122f6-4233-4edb-b85d-e08a1a829bbf",
   "metadata": {},
   "outputs": [],
   "source": [
    "# Answers are given with "
   ]
  },
  {
   "cell_type": "code",
   "execution_count": null,
   "id": "3cc43929-c1e6-4fbd-8e1f-b88a1563b63b",
   "metadata": {},
   "outputs": [],
   "source": []
  },
  {
   "cell_type": "code",
   "execution_count": null,
   "id": "6c58083e-7a88-4dd0-bff1-49dc29b621cb",
   "metadata": {},
   "outputs": [],
   "source": []
  },
  {
   "cell_type": "code",
   "execution_count": 30,
   "id": "c93a5451-4fa4-406f-8fc6-cb4f9fd40d60",
   "metadata": {},
   "outputs": [
    {
     "name": "stdout",
     "output_type": "stream",
     "text": [
      "[('Virat Kohli', 24936), ('Jack Kallis', 25534), ('Ricky Ponting', 27483), ('Sachin Tendulkar', 34357)]\n"
     ]
    }
   ],
   "source": [
    "list_of_tuples = [('Sachin Tendulkar', 34357), ('Ricky Ponting', 27483), ('Jack Kallis', 25534), ('Virat Kohli', 24936)]\n",
    "list_of_tuples.sort(key=lambda x: x[1])\n",
    "print(list_of_tuples)"
   ]
  },
  {
   "cell_type": "code",
   "execution_count": 4,
   "id": "76bd1414-ee72-4545-87e1-9b30d3807ffc",
   "metadata": {},
   "outputs": [],
   "source": [
    "#question 2"
   ]
  },
  {
   "cell_type": "code",
   "execution_count": 9,
   "id": "08b99a47-292f-461d-89e7-eccf7bc7ea71",
   "metadata": {},
   "outputs": [],
   "source": [
    "l=[1, 2, 3, 4, 5, 6, 7, 8, 9, 10];\n",
    "lans=list(map(lambda a:a**2,l))"
   ]
  },
  {
   "cell_type": "code",
   "execution_count": 10,
   "id": "be2e331c-bab7-4214-8197-a9bf4fb39b8c",
   "metadata": {},
   "outputs": [
    {
     "data": {
      "text/plain": [
       "[1, 4, 9, 16, 25, 36, 49, 64, 81, 100]"
      ]
     },
     "execution_count": 10,
     "metadata": {},
     "output_type": "execute_result"
    }
   ],
   "source": [
    "lans"
   ]
  },
  {
   "cell_type": "code",
   "execution_count": null,
   "id": "c6496b64-4bcd-485e-a5ac-5c4d7cf7a74a",
   "metadata": {},
   "outputs": [],
   "source": []
  },
  {
   "cell_type": "code",
   "execution_count": 11,
   "id": "c66502ea-40b3-4a5b-9f94-b2eb1ef7b908",
   "metadata": {},
   "outputs": [],
   "source": [
    "#question 3"
   ]
  },
  {
   "cell_type": "code",
   "execution_count": 14,
   "id": "94140cb1-d2eb-4af9-89c9-bdd1e761307b",
   "metadata": {},
   "outputs": [],
   "source": [
    "l=[1, 2, 3, 4, 5, 6, 7, 8, 9, 10];\n",
    "tans=tuple(map(lambda a:str(a),l))"
   ]
  },
  {
   "cell_type": "code",
   "execution_count": 15,
   "id": "3b6577dd-e539-4f45-880c-5b427f6230cc",
   "metadata": {},
   "outputs": [
    {
     "data": {
      "text/plain": [
       "('1', '2', '3', '4', '5', '6', '7', '8', '9', '10')"
      ]
     },
     "execution_count": 15,
     "metadata": {},
     "output_type": "execute_result"
    }
   ],
   "source": [
    "tans"
   ]
  },
  {
   "cell_type": "code",
   "execution_count": null,
   "id": "b6895f60-72d1-4e77-8cef-bb80b561ff23",
   "metadata": {},
   "outputs": [],
   "source": []
  },
  {
   "cell_type": "code",
   "execution_count": 7,
   "id": "febd01f0-7314-4bc0-a57d-4a1ed6ebdcf8",
   "metadata": {},
   "outputs": [],
   "source": [
    "from functools import reduce"
   ]
  },
  {
   "cell_type": "code",
   "execution_count": 16,
   "id": "3f21a706-af81-41d8-a16b-72802b289811",
   "metadata": {},
   "outputs": [
    {
     "data": {
      "text/plain": [
       "15511210043330985984000000"
      ]
     },
     "execution_count": 16,
     "metadata": {},
     "output_type": "execute_result"
    }
   ],
   "source": [
    "#question no 4\n",
    "l=list(range(1,26))\n",
    "reduce(lambda x,y:x*y,l)"
   ]
  },
  {
   "cell_type": "code",
   "execution_count": null,
   "id": "d30c7c08-7842-49ff-944b-aad50eea8ac9",
   "metadata": {},
   "outputs": [],
   "source": []
  },
  {
   "cell_type": "code",
   "execution_count": 22,
   "id": "d0cc9832-4aaa-42b3-9a95-08f4568f1714",
   "metadata": {},
   "outputs": [],
   "source": [
    "l1=[2, 3, 6, 9, 27, 60, 90, 120, 55, 46];\n",
    "l=list(filter(lambda x :  x%2 ==0 or x%3==0 ,l1))"
   ]
  },
  {
   "cell_type": "code",
   "execution_count": 23,
   "id": "cf28ea2c-cdd0-4a9d-b6be-e4b5c19b68b5",
   "metadata": {},
   "outputs": [
    {
     "data": {
      "text/plain": [
       "[2, 3, 6, 9, 27, 60, 90, 120, 46]"
      ]
     },
     "execution_count": 23,
     "metadata": {},
     "output_type": "execute_result"
    }
   ],
   "source": [
    "l"
   ]
  },
  {
   "cell_type": "code",
   "execution_count": null,
   "id": "31277924-4fcb-4516-b50d-8221b2f27f3f",
   "metadata": {},
   "outputs": [],
   "source": []
  },
  {
   "cell_type": "code",
   "execution_count": 15,
   "id": "600184c5-6472-40c8-adbd-3aa7fd0bcf82",
   "metadata": {},
   "outputs": [],
   "source": [
    "def palindrome(s):\n",
    "    i=len(s)-1;\n",
    "    d=\"\";\n",
    "    while i>=0:\n",
    "        d+=s[i];\n",
    "        i-=1;\n",
    "    if d==s:\n",
    "        return True;\n",
    "    else:\n",
    "        return False;"
   ]
  },
  {
   "cell_type": "code",
   "execution_count": 16,
   "id": "95183de9-6ded-4991-b5f6-55d73b745517",
   "metadata": {},
   "outputs": [],
   "source": [
    "l=['python', 'php', 'aba', 'radar', 'level'];\n",
    "l1=list(filter(lambda s:palindrome(s),l))"
   ]
  },
  {
   "cell_type": "code",
   "execution_count": 17,
   "id": "ac8d0fe9-a213-4cd1-87a8-493c74752225",
   "metadata": {},
   "outputs": [
    {
     "data": {
      "text/plain": [
       "['php', 'aba', 'radar', 'level']"
      ]
     },
     "execution_count": 17,
     "metadata": {},
     "output_type": "execute_result"
    }
   ],
   "source": [
    "l1"
   ]
  },
  {
   "cell_type": "code",
   "execution_count": null,
   "id": "d8456885-127a-457f-8199-e03ad8fbca2d",
   "metadata": {},
   "outputs": [],
   "source": []
  },
  {
   "cell_type": "code",
   "execution_count": null,
   "id": "386e47ff-f909-4c84-a799-91530f86f452",
   "metadata": {},
   "outputs": [],
   "source": []
  }
 ],
 "metadata": {
  "kernelspec": {
   "display_name": "Python 3 (ipykernel)",
   "language": "python",
   "name": "python3"
  },
  "language_info": {
   "codemirror_mode": {
    "name": "ipython",
    "version": 3
   },
   "file_extension": ".py",
   "mimetype": "text/x-python",
   "name": "python",
   "nbconvert_exporter": "python",
   "pygments_lexer": "ipython3",
   "version": "3.10.8"
  }
 },
 "nbformat": 4,
 "nbformat_minor": 5
}
