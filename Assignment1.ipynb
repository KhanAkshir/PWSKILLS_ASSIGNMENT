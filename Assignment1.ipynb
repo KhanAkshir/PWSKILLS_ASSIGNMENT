{
 "cells": [
  {
   "cell_type": "code",
   "execution_count": 33,
   "id": "24808715-e492-4206-8574-502b48cb0a5b",
   "metadata": {},
   "outputs": [],
   "source": [
    "#Answers are provided with question number"
   ]
  },
  {
   "cell_type": "code",
   "execution_count": 34,
   "id": "717ee111-1677-4a5d-b453-e0af4e4fad64",
   "metadata": {},
   "outputs": [],
   "source": [
    "1. Guido van Rossum"
   ]
  },
  {
   "cell_type": "code",
   "execution_count": 35,
   "id": "788096d0-8277-46da-8dcd-dfd3d1913b38",
   "metadata": {},
   "outputs": [],
   "source": [
    "2. Object Oriented Programming"
   ]
  },
  {
   "cell_type": "code",
   "execution_count": 36,
   "id": "4433b24f-236f-4b08-ad7b-501781b26d2b",
   "metadata": {},
   "outputs": [],
   "source": [
    "3. Yes, Python is a case-sensitive language/"
   ]
  },
  {
   "cell_type": "code",
   "execution_count": 37,
   "id": "f1fc2eee-8443-4296-988d-a073c3ab9870",
   "metadata": {},
   "outputs": [],
   "source": [
    "4. extension is .py for jupiter .ipynb"
   ]
  },
  {
   "cell_type": "code",
   "execution_count": 38,
   "id": "72368f56-9757-412b-8294-8e30c051633d",
   "metadata": {},
   "outputs": [],
   "source": [
    "5. Python is an interpreted language"
   ]
  },
  {
   "cell_type": "code",
   "execution_count": 39,
   "id": "d31741e5-91cd-4385-9e70-a5970c45ba39",
   "metadata": {},
   "outputs": [],
   "source": [
    "6. The following are blocks: a module, a function body, and a class definition."
   ]
  },
  {
   "cell_type": "code",
   "execution_count": 40,
   "id": "a11b76bd-a2cf-4721-93e6-1d71a163dcff",
   "metadata": {},
   "outputs": [],
   "source": [
    "7.  # is used to give single line comments"
   ]
  },
  {
   "cell_type": "code",
   "execution_count": 41,
   "id": "f510822c-90d7-446a-837a-788651f2e3e3",
   "metadata": {},
   "outputs": [],
   "source": [
    "8. sys. version"
   ]
  },
  {
   "cell_type": "code",
   "execution_count": 42,
   "id": "47a9fe80-ec27-4c37-9970-f08cf7de47db",
   "metadata": {},
   "outputs": [],
   "source": [
    "9. lambda"
   ]
  },
  {
   "cell_type": "code",
   "execution_count": 43,
   "id": "158a0af8-8dc2-4e90-9fbc-7894acf8e78b",
   "metadata": {},
   "outputs": [],
   "source": [
    "10. preferred installer program"
   ]
  },
  {
   "cell_type": "code",
   "execution_count": 44,
   "id": "ea2c8e62-9171-42ed-b8d7-d5a88a1dd543",
   "metadata": {},
   "outputs": [],
   "source": [
    "11. sort() , pop() ,append(), insert() etc. "
   ]
  },
  {
   "cell_type": "code",
   "execution_count": 45,
   "id": "b03f226a-2af0-42fe-9adf-ec9890a86762",
   "metadata": {},
   "outputs": [],
   "source": [
    "12.  79 characters "
   ]
  },
  {
   "cell_type": "code",
   "execution_count": 47,
   "id": "ab6fcf53-3b87-4d54-8c2e-e1fa8f6803a5",
   "metadata": {},
   "outputs": [],
   "source": [
    "13.\n",
    "1) Easy to Learn and Use. ...\n",
    "2) Mature and Supportive Python Community. ...\n",
    "3) Support from Renowned Corporate Sponsors. ...\n",
    "4) Hundreds of Python Libraries and Frameworks. ...\n",
    "5) Versatility, Efficiency, Reliability, and Speed. ...\n",
    "6) Big data, Machine Learning and Cloud Computing. ...\n",
    "7) First-choice Language."
   ]
  },
  {
   "cell_type": "code",
   "execution_count": 48,
   "id": "e220da3d-ebcd-4cb6-8256-a1e905e8282c",
   "metadata": {},
   "outputs": [],
   "source": [
    "14. Memory management in Python involves a private heap containing all Python objects and data structures. "
   ]
  },
  {
   "cell_type": "code",
   "execution_count": 49,
   "id": "3f0cb108-adbc-4671-87d7-a90f9df8152c",
   "metadata": {},
   "outputs": [],
   "source": [
    "15.\n",
    "\n",
    "Download the binaries\n",
    "Run the Executable installer\n",
    "Add Python to PATH environmental variables\n",
    "\n",
    "\n",
    "----------------------TO ADD PATH-----------------------------\n",
    "\n",
    "The complete path of python.exe can be added by:\n",
    "\n",
    "Right-clicking This PC and going to Properties.\n",
    "\n",
    "Clicking on the Advanced system settings in the menu on the left.\n",
    "\n",
    "Clicking on the Environment Variables button o​n the bottom right.\n",
    "\n",
    "In the System variables section, selecting the Path variable and clicking on Edit. The next screen will show all the directories that are currently a part of the PATH variable.\n",
    "\n",
    "Clicking on New and entering Python’s install directory."
   ]
  },
  {
   "cell_type": "code",
   "execution_count": null,
   "id": "d0874835-76b8-4994-8469-bfb1ac33748f",
   "metadata": {},
   "outputs": [],
   "source": [
    "16. YES identation is required in python"
   ]
  }
 ],
 "metadata": {
  "kernelspec": {
   "display_name": "Python 3 (ipykernel)",
   "language": "python",
   "name": "python3"
  },
  "language_info": {
   "codemirror_mode": {
    "name": "ipython",
    "version": 3
   },
   "file_extension": ".py",
   "mimetype": "text/x-python",
   "name": "python",
   "nbconvert_exporter": "python",
   "pygments_lexer": "ipython3",
   "version": "3.10.8"
  }
 },
 "nbformat": 4,
 "nbformat_minor": 5
}
