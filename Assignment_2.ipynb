{
 "cells": [
  {
   "cell_type": "code",
   "execution_count": null,
   "id": "4a5e7c65-71da-45e1-a90a-717beba51ce3",
   "metadata": {},
   "outputs": [],
   "source": [
    "# Answers are given with respective question number"
   ]
  },
  {
   "cell_type": "code",
   "execution_count": 1,
   "id": "eb100c09-5098-4bba-820f-4184ea30f991",
   "metadata": {},
   "outputs": [
    {
     "name": "stdin",
     "output_type": "stream",
     "text": [
      "Enter your percentage:    91\n"
     ]
    },
    {
     "name": "stdout",
     "output_type": "stream",
     "text": [
      "A\n"
     ]
    }
   ],
   "source": [
    "#question 1\n",
    "percentage=int(input(\"Enter your percentage:   \" ));\n",
    "\n",
    "if percentage>90:\n",
    "    print(\"A\");\n",
    "elif percentage>80 and percentage<=90:\n",
    "    print(\"B\");\n",
    "elif percentage>=60 and percentage<=80:\n",
    "    print(\"C\");\n",
    "else:\n",
    "    print(\"D\");"
   ]
  },
  {
   "cell_type": "code",
   "execution_count": 7,
   "id": "ae9e8b6a-5bee-47cd-a6bb-465a2428c7aa",
   "metadata": {},
   "outputs": [
    {
     "name": "stdin",
     "output_type": "stream",
     "text": [
      "Enter CP:    100000\n"
     ]
    },
    {
     "name": "stdout",
     "output_type": "stream",
     "text": [
      "10%\n"
     ]
    }
   ],
   "source": [
    "#question 2\n",
    "cp=int(input(\"Enter CP:   \" ));\n",
    "\n",
    "if cp>100000:\n",
    "    print(15,end=\"\");\n",
    "    print(\"%\");\n",
    "elif cp>50000 and cp<=100000:\n",
    "    print(10,end=\"\");\n",
    "    print(\"%\");\n",
    "else:\n",
    "    print(5,end=\"\");\n",
    "    print(\"%\");"
   ]
  },
  {
   "cell_type": "code",
   "execution_count": 10,
   "id": "7d8e6067-de4d-48d8-b234-46d9ee2e97a0",
   "metadata": {},
   "outputs": [
    {
     "name": "stdin",
     "output_type": "stream",
     "text": [
      "enter the name of city:   Delhi\n"
     ]
    },
    {
     "name": "stdout",
     "output_type": "stream",
     "text": [
      "Red Fort\n"
     ]
    }
   ],
   "source": [
    "#question 3\n",
    "city=input(\"enter the name of city:  \");\n",
    "\n",
    "if city==\"Delhi\":\n",
    "    print(\"Red Fort\");\n",
    "elif city==\"Agra\":\n",
    "    print(\"Taj Mahal\");\n",
    "elif city==\"Jaipur\":\n",
    "    print(\"Jai Mahal\");\n",
    "else:\n",
    "    print(\"please enter a valid city: \");\n"
   ]
  },
  {
   "cell_type": "code",
   "execution_count": 12,
   "id": "a7f6a8c8-e83a-4fb8-a8f4-5b0abd2a9d18",
   "metadata": {},
   "outputs": [
    {
     "name": "stdin",
     "output_type": "stream",
     "text": [
      "Enter Number:  34\n"
     ]
    },
    {
     "name": "stdout",
     "output_type": "stream",
     "text": [
      "1 times\n"
     ]
    }
   ],
   "source": [
    "#question 4\n",
    "A=int(input(\"Enter Number: \"));\n",
    "i=0;\n",
    "while A>10:\n",
    "    A=A/3;\n",
    "    if A>=10:\n",
    "        i+=1;\n",
    "print(i,end=\" \");\n",
    "print(\"times\")"
   ]
  },
  {
   "cell_type": "code",
   "execution_count": 39,
   "id": "a8cad25e-41f3-4f89-9d55-4a063f039e51",
   "metadata": {},
   "outputs": [],
   "source": [
    "#question 5. We use while loops in python for running a conditional loop:"
   ]
  },
  {
   "cell_type": "code",
   "execution_count": 14,
   "id": "6e6f1c12-3a64-488a-8aa7-e633b8aa8b94",
   "metadata": {},
   "outputs": [
    {
     "name": "stdin",
     "output_type": "stream",
     "text": [
      "enter the number:  6\n"
     ]
    },
    {
     "name": "stdout",
     "output_type": "stream",
     "text": [
      "* * * * * * \n",
      "* * * * * \n",
      "* * * * \n",
      "* * * \n",
      "* * \n",
      "* \n"
     ]
    }
   ],
   "source": [
    "#question 6.\n",
    "index=int(input(\"enter the number: \"));\n",
    "\n",
    "while index>0:\n",
    "    print(index*\"* \");\n",
    "    index=index-1;\n",
    "          "
   ]
  },
  {
   "cell_type": "code",
   "execution_count": 44,
   "id": "3d861fa1-bd40-4c98-9cd9-054d15376ca7",
   "metadata": {},
   "outputs": [
    {
     "name": "stdin",
     "output_type": "stream",
     "text": [
      "enter the number:  10\n"
     ]
    },
    {
     "name": "stdout",
     "output_type": "stream",
     "text": [
      "10\n",
      "9\n",
      "8\n",
      "7\n",
      "6\n",
      "5\n",
      "4\n",
      "3\n",
      "2\n",
      "1\n"
     ]
    }
   ],
   "source": [
    "#question \n",
    "index=int(input(\"enter the number: \"));\n",
    "\n",
    "while index>0:\n",
    "    print(index);\n",
    "    index=index-1;"
   ]
  },
  {
   "cell_type": "code",
   "execution_count": null,
   "id": "c5b31a5a-8008-460b-b773-36b70552845f",
   "metadata": {},
   "outputs": [],
   "source": []
  }
 ],
 "metadata": {
  "kernelspec": {
   "display_name": "Python 3 (ipykernel)",
   "language": "python",
   "name": "python3"
  },
  "language_info": {
   "codemirror_mode": {
    "name": "ipython",
    "version": 3
   },
   "file_extension": ".py",
   "mimetype": "text/x-python",
   "name": "python",
   "nbconvert_exporter": "python",
   "pygments_lexer": "ipython3",
   "version": "3.10.8"
  }
 },
 "nbformat": 4,
 "nbformat_minor": 5
}
