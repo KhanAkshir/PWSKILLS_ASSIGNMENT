{
 "cells": [
  {
   "cell_type": "code",
   "execution_count": 1,
   "id": "9bb8373d-25f2-4f8e-9fbc-5b1bd59b946e",
   "metadata": {},
   "outputs": [],
   "source": [
    "# Answers of following questions are given with respective question numbers:"
   ]
  },
  {
   "cell_type": "code",
   "execution_count": null,
   "id": "6fd59b2a-efea-4401-8539-c8e0be3721f7",
   "metadata": {},
   "outputs": [],
   "source": []
  },
  {
   "cell_type": "code",
   "execution_count": 5,
   "id": "77383a98-fbce-4be7-8950-6760d66f6b09",
   "metadata": {},
   "outputs": [],
   "source": [
    "#Q1. What is Abstraction in OOps? Explain with an example.\n",
    "'''\n",
    "Abstraction in python is defined as a process of handling complexity by hiding unnecessary information from the user. \n",
    "This is one of the core concepts of object-oriented programming (OOP) languages.\n",
    "\n",
    "Example - When we use the TV remote to increase the volume. We don't know how pressing a key increases \n",
    "the volume of the TV. We only know to press the \"+\" button to increase the volume.\n",
    "\n",
    "'''\n"
   ]
  },
  {
   "cell_type": "code",
   "execution_count": 27,
   "id": "31003109-5750-4ac2-adeb-42b4eae00983",
   "metadata": {},
   "outputs": [],
   "source": [
    "# Python program demonstrate  \n",
    "# abstract base class work   \n",
    "from abc import ABC, abstractmethod   \n",
    "class Car(ABC):\n",
    "    @abc.abstractmethod\n",
    "    def mileage(self):   \n",
    "        pass;\n",
    "\n",
    "class Tesla(Car):   \n",
    "    def mileage(self):   \n",
    "        print(\"The mileage is 30kmph\")   \n",
    "class Suzuki(Car):   \n",
    "    def mileage(self):   \n",
    "        print(\"The mileage is 25kmph \")   "
   ]
  },
  {
   "cell_type": "code",
   "execution_count": 28,
   "id": "ac112631-84a5-4d6c-935e-d1eaf9cd9b8d",
   "metadata": {},
   "outputs": [
    {
     "name": "stdout",
     "output_type": "stream",
     "text": [
      "The mileage is 30kmph\n"
     ]
    }
   ],
   "source": [
    "car1=Tesla()\n",
    "car1.mileage()"
   ]
  },
  {
   "cell_type": "code",
   "execution_count": 29,
   "id": "7d1c3cf5-56f3-4ede-b417-5768ef8e7509",
   "metadata": {},
   "outputs": [
    {
     "name": "stdout",
     "output_type": "stream",
     "text": [
      "The mileage is 25kmph \n"
     ]
    }
   ],
   "source": [
    "car2=Suzuki()\n",
    "car2.mileage()"
   ]
  },
  {
   "cell_type": "code",
   "execution_count": null,
   "id": "b3dd11a4-b6b1-4892-a064-675a882e08c4",
   "metadata": {},
   "outputs": [],
   "source": []
  },
  {
   "cell_type": "code",
   "execution_count": 36,
   "id": "31626240-6006-4c2f-96ef-feb56c8a90c2",
   "metadata": {},
   "outputs": [],
   "source": [
    "#Q2. Differentiate between Abstraction and Encapsulation. Explain with an example.\n",
    "\n",
    "'''\n",
    "Data Abstraction\t\n",
    "i .Data Abstraction can be described as the technique of hiding internal details of a program \n",
    "and exposing the functionality only.\n",
    "ii. Implementation hiding is done using this technique.\n",
    "\n",
    "example: Suppose we are driving wer car.., so when we are driving, at that time we only need to know about the basic \n",
    "functionalities of the car , \n",
    "like how steering works n all. And we are not going into the much detail about the internal working of the car. \n",
    "\n",
    "Same is in the case of programming, there are some information which is not important for users. \n",
    "So that kind of information is made private by the programmers. \n",
    "So in short, abstraction is a mechanism with the help of which programmers hide the unnecessary details from the users.\n",
    "\n",
    "\n",
    "#############################################################################################################################################\n",
    "\n",
    "Data Encapsulation \n",
    "i. Data Encapsulation can be described as the technique of binding up of data along with its correlate methods as a single unit.\n",
    "Implementation hiding is done using this technique.\n",
    "ii. Information hiding is done using this technique.\n",
    "\n",
    "example: School bag is one of the most real examples of Encapsulation. School bag can keep our books, pens, etc.\n",
    "'''\n",
    "# Python program demonstrate abstract base class work   \n",
    "from abc import ABC, abstractmethod   \n",
    "class Car(ABC):\n",
    "    @abc.abstractmethod\n",
    "    def mileage(self):   \n",
    "        pass;\n",
    "\n",
    "class Tesla(Car):   \n",
    "    def mileage(self):   \n",
    "        print(\"The mileage is 30kmph\")   \n",
    "class Suzuki(Car):   \n",
    "    def mileage(self):   \n",
    "        print(\"The mileage is 25kmph \") "
   ]
  },
  {
   "cell_type": "code",
   "execution_count": 37,
   "id": "8ac17054-e10e-4cae-95b8-ae86484e6a88",
   "metadata": {},
   "outputs": [
    {
     "name": "stdout",
     "output_type": "stream",
     "text": [
      "The mileage is 30kmph\n"
     ]
    }
   ],
   "source": [
    "car1=Tesla()\n",
    "car1.mileage()"
   ]
  },
  {
   "cell_type": "code",
   "execution_count": 38,
   "id": "bcfb1749-0829-4ec6-8d07-ec9de9a95d8a",
   "metadata": {},
   "outputs": [
    {
     "name": "stdout",
     "output_type": "stream",
     "text": [
      "The mileage is 25kmph \n"
     ]
    }
   ],
   "source": [
    "car2=Suzuki()\n",
    "car2.mileage()"
   ]
  },
  {
   "cell_type": "code",
   "execution_count": 39,
   "id": "3ce39651-1d20-4349-b3e1-4c3fa202e67c",
   "metadata": {},
   "outputs": [],
   "source": [
    "# Python program demonstrate encapsulation\n",
    "class Employee:\n",
    "    # constructor\n",
    "    def __init__(self, name, salary, project):\n",
    "        # data members\n",
    "        self.name = name\n",
    "        self.salary = salary\n",
    "        self.project = project\n",
    "        \n",
    "# As here we can see that the all the information of an employee is encapsulated inside a class "
   ]
  },
  {
   "cell_type": "code",
   "execution_count": null,
   "id": "e527479a-2afe-4d20-a7f4-aed06ba99dbd",
   "metadata": {},
   "outputs": [],
   "source": []
  },
  {
   "cell_type": "code",
   "execution_count": 40,
   "id": "d13efa38-5956-4535-b11f-7b964fa7dcc7",
   "metadata": {},
   "outputs": [],
   "source": [
    "#Q3 :What is abc module in python? Why is it used?\n",
    "'''\n",
    "The abc module in Python is the abstract base class module. It provides the \n",
    "infrastructure for defining abstract base classes (ABCs) in Python. \n",
    "\n",
    "An abstract base class is a class that cannot be instantiated, but can be subclassed. \n",
    "The purpose of an abstract base class is to provide a common interface for its subclasses, \n",
    "and to enforce the implementation of certain methods by its subclasses.\n",
    "\n",
    "The abc module defines several classes and decorators that make it easy To \n",
    "define abstract base classes and enforce their contracts in Python. \n",
    "\n",
    "For example, the ABC class in the abc module can be used as a base class for \n",
    "defining abstract base classes, and the abstractmethod decorator can be used \n",
    "to declare abstract methods that must be implemented by subclasses.\n",
    "\n",
    "'''\n",
    "\n",
    "#example\n",
    "\n",
    "from abc import ABC, abstractmethod   \n",
    "class Car(ABC):\n",
    "    @abc.abstractmethod\n",
    "    def mileage(self):   \n",
    "        pass;\n",
    "\n",
    "class Tesla(Car):   \n",
    "    def mileage(self):   \n",
    "        print(\"The mileage is 30kmph\")   \n",
    "class Suzuki(Car):   \n",
    "    def mileage(self):   \n",
    "        print(\"The mileage is 25kmph \") \n"
   ]
  },
  {
   "cell_type": "code",
   "execution_count": null,
   "id": "ca90f0d3-a8ae-485e-8997-d789aa747000",
   "metadata": {},
   "outputs": [],
   "source": []
  },
  {
   "cell_type": "code",
   "execution_count": 41,
   "id": "a4fa6b59-67eb-4af0-8bd2-25bec5f045c6",
   "metadata": {},
   "outputs": [],
   "source": [
    "#Q4 : How can we achieve data abstraction?\n",
    "\n",
    "'''\n",
    "abstraction can be achieved by having/using abstract classes and methods in our programs.\n",
    "\n",
    "Understanding Abstract Methods and Classes:\n",
    "\n",
    "An abstract method is a method that is declared, but does not contain implementation. \n",
    "An abstract method in a base class identifies the functionality that \n",
    "should be implemented by all its subclasses. \n",
    "\n",
    "However, since the implementation of an abstract method would differ \n",
    "from one subclass to another, often the method body comprises just a pass statement.\n",
    "\n",
    "Every subclass of the base class will ride this method with its implementation. \n",
    "\n",
    "A class containing abstract methods is called abstract class.Python \n",
    "provides the abc module to use the abstraction in the Python program,\n",
    "syntax as:\n",
    "\n",
    "from abc import ABC,   \n",
    "class ClassName(ABC):\n",
    "\n",
    "'''\n",
    "\n",
    "#example\n",
    "\n",
    "from abc import ABC, abstractmethod   \n",
    "class Car(ABC):\n",
    "    @abc.abstractmethod\n",
    "    def mileage(self):   \n",
    "        pass;\n",
    "\n",
    "class Tesla(Car):   \n",
    "    def mileage(self):   \n",
    "        print(\"The mileage is 30kmph\")   \n",
    "class Suzuki(Car):   \n",
    "    def mileage(self):   \n",
    "        print(\"The mileage is 25kmph \") "
   ]
  },
  {
   "cell_type": "code",
   "execution_count": null,
   "id": "36f52446-9556-4098-b094-4a37e6c0c47e",
   "metadata": {},
   "outputs": [],
   "source": []
  },
  {
   "cell_type": "code",
   "execution_count": null,
   "id": "c06d0600-2e34-4eba-b438-983c1b2de209",
   "metadata": {},
   "outputs": [],
   "source": [
    "#Q5 Can we create an instance of an abstract class? Explain your answer.\n",
    "'''\n",
    "No, we cannot create an instance of an abstract class. An abstract class is a class that \n",
    "is declared abstract and it may or may not include abstract methods. \n",
    "Abstract classes cannot be instantiated, which means we cannot create an object of an \n",
    "abstract class. \n",
    "The purpose of an abstract class is to provide a common interface for its subclasses,\n",
    "and to ensure that certain methods are implemented by its subclasses.\n",
    "\n",
    "Instead, we need to create a subclass that extends the abstract class and \n",
    "provides an implementation for all its abstract methods. \n",
    "Then we can create an instance of the subclass. By doing so, we can take \n",
    "advantage of the methods and fields defined in the abstract class, \n",
    "while also providing a \n",
    "specific implementation for the abstract methods.\n",
    "\n",
    "'''"
   ]
  }
 ],
 "metadata": {
  "kernelspec": {
   "display_name": "Python 3 (ipykernel)",
   "language": "python",
   "name": "python3"
  },
  "language_info": {
   "codemirror_mode": {
    "name": "ipython",
    "version": 3
   },
   "file_extension": ".py",
   "mimetype": "text/x-python",
   "name": "python",
   "nbconvert_exporter": "python",
   "pygments_lexer": "ipython3",
   "version": "3.10.8"
  }
 },
 "nbformat": 4,
 "nbformat_minor": 5
}
