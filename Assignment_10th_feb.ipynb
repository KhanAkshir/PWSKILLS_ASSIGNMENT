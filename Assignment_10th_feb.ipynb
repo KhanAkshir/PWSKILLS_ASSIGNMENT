{
 "cells": [
  {
   "cell_type": "code",
   "execution_count": 1,
   "id": "5a8ffd21-7408-4cbf-8c72-536b4edc015c",
   "metadata": {},
   "outputs": [],
   "source": [
    "# Answers of the questions are given with respective question numbers"
   ]
  },
  {
   "cell_type": "code",
   "execution_count": null,
   "id": "35ebac16-60f5-43a0-8721-8f531cd51c10",
   "metadata": {},
   "outputs": [],
   "source": []
  },
  {
   "cell_type": "code",
   "execution_count": null,
   "id": "a6793c0b-c968-4ea4-888c-4f4703b9d25a",
   "metadata": {},
   "outputs": [],
   "source": [
    "# Q1. Which function is used to open a file? What are the different modes of opening a file? Explain each mode\n",
    "# of file opening.\n",
    "\n",
    "\n",
    "In Python, we use the open() method to open files.\n",
    "\n",
    "File Access Modes\n",
    "\n",
    "Access modes govern the type of operations possible in the opened file. It refers to how the file\n",
    "will be used once its opened. \n",
    "These modes also define the location of the File Handle in the file. File handle is like a cursor,\n",
    "which defines from where the data has to be read or written in the file. There are 6 access modes in python.\n",
    "\n",
    "Read Only (‘r’) : Open text file for reading. The handle is positioned at the beginning of the file. \n",
    "If the file does not exists, raises the I/O error. This is also the default mode in which a file is opened.\n",
    "\n",
    "Read and Write (‘r+’): Open the file for reading and writing. The handle is positioned at the beginning of the file. \n",
    "Raises I/O error if the file does not exist.\n",
    "\n",
    "Write Only (‘w’) : Open the file for writing. For the existing files, the data is truncated and over-written. \n",
    "The handle is positioned at the beginning of the file. Creates the file if the file does not exist.\n",
    "\n",
    "Write and Read (‘w+’) : Open the file for reading and writing. For an existing file, data is truncated and\n",
    "over-written. The handle is positioned at the beginning of the file.\n",
    "\n",
    "Append Only (‘a’): Open the file for writing. The file is created if it does not exist. The handle is positioned \n",
    "at the end of the file. The data being written will be inserted at the end, after the existing data.''\n",
    "\n",
    "Append and Read (‘a+’) : Open the file for reading and writing. The file is created if it does not exist. \n",
    "The handle is positioned at the end of the file. The data being written will be inserted at the end, after the \n",
    "existing data.\n",
    "\n"
   ]
  },
  {
   "cell_type": "code",
   "execution_count": null,
   "id": "3ee0c392-5d22-442d-bc41-3bd23450c731",
   "metadata": {},
   "outputs": [],
   "source": []
  },
  {
   "cell_type": "code",
   "execution_count": 28,
   "id": "a6e7859d-0cf1-4026-a2d3-6d1231271d0a",
   "metadata": {},
   "outputs": [],
   "source": [
    "#Q2. Why close() function is used? Why is it important to close a file?\n",
    "\n",
    "close() function is used to close the file, Closing a file will free up the resources that were tied with the file. \n",
    "It is done using the close() method in Python."
   ]
  },
  {
   "cell_type": "code",
   "execution_count": null,
   "id": "06217e4a-1ce4-4a3b-9354-352fa5277957",
   "metadata": {},
   "outputs": [],
   "source": []
  },
  {
   "cell_type": "code",
   "execution_count": null,
   "id": "da1d7912-f3d3-4233-8ac7-f06511764fb2",
   "metadata": {},
   "outputs": [],
   "source": [
    "#Q3. Write a python program to create a text file. Write ‘I want to become a Data Scientist’ in that file. \n",
    "#Then  close the file. Open this file and read the content of the file.\n",
    "\n",
    "\n",
    "f=open('myfile.txt',\"w\") \n",
    " "
   ]
  },
  {
   "cell_type": "code",
   "execution_count": null,
   "id": "23774692-4c0c-4d1e-ad3e-2a283547976d",
   "metadata": {},
   "outputs": [
    {
     "data": {
      "text/plain": [
       "33"
      ]
     },
     "execution_count": 165,
     "metadata": {},
     "output_type": "execute_result"
    }
   ],
   "source": [
    "f.write('I want to become a Data Scientist')"
   ]
  },
  {
   "cell_type": "code",
   "execution_count": null,
   "id": "6878cdc6-7518-4278-9ee2-ede24b33b50f",
   "metadata": {},
   "outputs": [],
   "source": [
    "f.close()"
   ]
  },
  {
   "cell_type": "code",
   "execution_count": null,
   "id": "abf62733-a26c-43ea-8e26-295bd71e7587",
   "metadata": {},
   "outputs": [],
   "source": [
    "f=open('myfile.txt','r')"
   ]
  },
  {
   "cell_type": "code",
   "execution_count": null,
   "id": "7bc0e803-8021-412d-ac20-ee754b63a384",
   "metadata": {},
   "outputs": [
    {
     "name": "stdout",
     "output_type": "stream",
     "text": [
      "I want to become a Data Scientist\n"
     ]
    }
   ],
   "source": [
    "print(f.read())\n",
    "f.close()"
   ]
  },
  {
   "cell_type": "code",
   "execution_count": null,
   "id": "7c4d4fe3-a68f-4273-9e27-a63395f87d6c",
   "metadata": {},
   "outputs": [],
   "source": []
  },
  {
   "cell_type": "code",
   "execution_count": 98,
   "id": "b688f180-29ee-4e81-aa0c-b521fb930ed5",
   "metadata": {},
   "outputs": [],
   "source": [
    "#Q4. Explain the following with python code: read(), readline() and readlines().\n",
    "\n",
    "The read() method returns the specified number of bytes from the file. \n",
    "Default is -1 which means the whole file.\n",
    "\n",
    "The readline() method returns one line from the file.\n",
    "\n",
    "The readlines() method returns a list containing each line in the file as a list item."
   ]
  },
  {
   "cell_type": "code",
   "execution_count": null,
   "id": "dd0579c4-29aa-42b9-848b-be3a7c7ce6fb",
   "metadata": {},
   "outputs": [],
   "source": []
  },
  {
   "cell_type": "code",
   "execution_count": 99,
   "id": "7943a3c0-11e8-4c33-889b-c2fa977f37b8",
   "metadata": {},
   "outputs": [],
   "source": [
    "# # Q5. Explain why with statement is used with open(). What is the advantage of using with statement and\n",
    "# open() together?\n",
    "\n",
    "The with statement works with the open() function to open a file.\n",
    "The with statement simplifies exception handling by encapsulating common preparation and cleanup tasks."
   ]
  },
  {
   "cell_type": "code",
   "execution_count": null,
   "id": "44ba1818-aaa0-4869-b6e0-ea47f7636154",
   "metadata": {},
   "outputs": [],
   "source": []
  },
  {
   "cell_type": "code",
   "execution_count": 170,
   "id": "d323ae73-e197-4515-a6d5-cb93755b1a72",
   "metadata": {},
   "outputs": [
    {
     "name": "stdout",
     "output_type": "stream",
     "text": [
      "\n"
     ]
    }
   ],
   "source": [
    "#Q6. Explain the write() and writelines() functions. Give a suitable example.\n",
    "'''write() is used to write a string to an already opened file\n",
    "writelines() method is used to write a list of strings in an opened file.'''\n",
    "#example\n"
   ]
  },
  {
   "cell_type": "code",
   "execution_count": 174,
   "id": "d26eb6d7-2029-4977-a874-21b93356f54e",
   "metadata": {},
   "outputs": [
    {
     "name": "stdout",
     "output_type": "stream",
     "text": [
      "I am write\n"
     ]
    }
   ],
   "source": [
    "with open('A.txt','w') as my_file:\n",
    "    my_file.write('I am write')  \n",
    "my_file=open('A.txt','r');\n",
    "print(my_file.read())\n",
    "my_file.close()"
   ]
  },
  {
   "cell_type": "code",
   "execution_count": 178,
   "id": "2798444b-554d-4e70-b6cb-efd9acb62c2e",
   "metadata": {},
   "outputs": [
    {
     "name": "stdout",
     "output_type": "stream",
     "text": [
      "I am writelines\n",
      "with multiple lines!\n"
     ]
    }
   ],
   "source": [
    "with open('B.txt','w') as my_file2:\n",
    "    my_file2.writelines(['I am writelines','\\nwith multiple lines!'])\n",
    "my_file2=open('B.txt','r');\n",
    "print(my_file2.read())\n",
    "my_file2.close()"
   ]
  },
  {
   "cell_type": "code",
   "execution_count": null,
   "id": "6eff1d41-a9c4-427b-9a4a-8a88413cc536",
   "metadata": {},
   "outputs": [],
   "source": []
  }
 ],
 "metadata": {
  "kernelspec": {
   "display_name": "Python 3 (ipykernel)",
   "language": "python",
   "name": "python3"
  },
  "language_info": {
   "codemirror_mode": {
    "name": "ipython",
    "version": 3
   },
   "file_extension": ".py",
   "mimetype": "text/x-python",
   "name": "python",
   "nbconvert_exporter": "python",
   "pygments_lexer": "ipython3",
   "version": "3.10.8"
  }
 },
 "nbformat": 4,
 "nbformat_minor": 5
}
