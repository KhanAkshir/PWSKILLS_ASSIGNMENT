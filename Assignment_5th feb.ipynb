{
 "cells": [
  {
   "cell_type": "code",
   "execution_count": 2,
   "id": "20b61cbf-04a5-4ef3-b925-c4a9263643d0",
   "metadata": {},
   "outputs": [],
   "source": [
    "#Answers of questions are give with respective question numbers"
   ]
  },
  {
   "cell_type": "code",
   "execution_count": null,
   "id": "3abdd807-0ed1-482b-aca0-41c56a75abe9",
   "metadata": {},
   "outputs": [],
   "source": []
  },
  {
   "cell_type": "code",
   "execution_count": 4,
   "id": "d78093c8-93af-4d04-8f4d-459345f0ad6f",
   "metadata": {},
   "outputs": [],
   "source": [
    "#question 1\n",
    "\n",
    "class:\n",
    "a class describes the contents of the objects that belong to it , it describes an aggregate of data fields (called instance variables), and defines the operations (called methods).\n",
    "\n",
    "object:\n",
    "an object is an element (or instance) of a class; objects have the behaviors of their class. The object is the actual component of programs, while the class specifies how instances are created and how they behave.\n",
    "\n",
    "\n",
    "For example : A car factory can be defined as A class where as a car is the instaace or object of class with certain properties defined by class such as color of car , wheel size etc;  "
   ]
  },
  {
   "cell_type": "code",
   "execution_count": null,
   "id": "059b998f-832b-4299-ba08-60b32c59665e",
   "metadata": {},
   "outputs": [],
   "source": []
  },
  {
   "cell_type": "code",
   "execution_count": 7,
   "id": "7ed8bea2-faba-45c4-a43b-8ad156b44760",
   "metadata": {},
   "outputs": [],
   "source": [
    "#question 2\n",
    "Pillars of OOPs are as follows:\n",
    "1. Inheritance\n",
    "2. Encapsulation\n",
    "3. Polymorphism\n",
    "4. Abstraction"
   ]
  },
  {
   "cell_type": "code",
   "execution_count": null,
   "id": "c29db0e2-8fc8-42dc-b02b-93e8b3ad8913",
   "metadata": {},
   "outputs": [],
   "source": []
  },
  {
   "cell_type": "code",
   "execution_count": 11,
   "id": "c7b2ce4b-7d17-43df-8728-e22a9c4190a9",
   "metadata": {},
   "outputs": [],
   "source": [
    "#question 3\n",
    "\n",
    "# __init__ function is used to make constructor of the class\n",
    "# A constructor is a special method that is automatically called when an object of a class is created.\n",
    "\n",
    "class con:\n",
    "    def __init__(self,a,b):\n",
    "        self.a=a;\n",
    "        self.b=b;\n",
    "    \n",
    "    def add(self):\n",
    "        return self.a+self.b;"
   ]
  },
  {
   "cell_type": "code",
   "execution_count": 12,
   "id": "12bc4d0d-770e-4e57-8836-ce6da954a730",
   "metadata": {},
   "outputs": [
    {
     "data": {
      "text/plain": [
       "3"
      ]
     },
     "execution_count": 12,
     "metadata": {},
     "output_type": "execute_result"
    }
   ],
   "source": [
    "c=con(1,2);\n",
    "c.add()"
   ]
  },
  {
   "cell_type": "code",
   "execution_count": null,
   "id": "b7c33236-ae74-4523-9435-864d13ae18cb",
   "metadata": {},
   "outputs": [],
   "source": []
  },
  {
   "cell_type": "code",
   "execution_count": 13,
   "id": "341c1ff3-2b8d-4f9f-9e3c-1b55c709d435",
   "metadata": {},
   "outputs": [],
   "source": [
    "# question 4\n",
    "The self variable is used to represent the instance of the class which is often used in object-oriented programming. It works as a reference to the object. \n",
    "Python uses the self parameter to refer to instance attributes and methods of the class.  "
   ]
  },
  {
   "cell_type": "code",
   "execution_count": null,
   "id": "ca45e534-3fcf-4459-94d0-192a485be6ff",
   "metadata": {},
   "outputs": [],
   "source": []
  },
  {
   "cell_type": "code",
   "execution_count": 36,
   "id": "1a28181e-f873-4612-ae7e-5363bf3aa571",
   "metadata": {},
   "outputs": [],
   "source": [
    "#question 5\n",
    "Inheritance is one of the most important aspects of Object Oriented Programming (OOP). The key to understanding Inheritance is that it provides code re-usability. \n",
    "In place of writing the same code, again and again, we can simply inherit the properties of one class into the other.\n",
    "\n",
    "Types of Inheritance:\n",
    "\n",
    "1. Single Inheritance\n",
    "2. Multiple Inheritance: \n",
    "3. Multilevel Inheritance :\n",
    "4. Hierarchical Inheritance: \n",
    "5. Hybrid Inheritance:\n",
    "\n"
   ]
  },
  {
   "cell_type": "code",
   "execution_count": 23,
   "id": "1b34d80c-b698-4cde-b409-29e391a89015",
   "metadata": {},
   "outputs": [],
   "source": [
    "#1. Single Inheritance\n",
    "class super_class:\n",
    "    def add(self,a,b):\n",
    "        return a+b;\n",
    "    # attributes and method definition\n",
    "\n",
    "# inheritance\n",
    "class sub_class(super_class):\n",
    "    pass;\n",
    "    # attributes and method of super_class\n",
    "    # attributes and method of sub_class"
   ]
  },
  {
   "cell_type": "code",
   "execution_count": 24,
   "id": "37db866f-9bcc-40dd-b595-61e4589d06e6",
   "metadata": {},
   "outputs": [
    {
     "data": {
      "text/plain": [
       "3"
      ]
     },
     "execution_count": 24,
     "metadata": {},
     "output_type": "execute_result"
    }
   ],
   "source": [
    "a=sub_class()\n",
    "a.add(1,2)"
   ]
  },
  {
   "cell_type": "code",
   "execution_count": null,
   "id": "05f915fd-22af-42e0-abcf-5c5bd40d5dfc",
   "metadata": {},
   "outputs": [],
   "source": []
  },
  {
   "cell_type": "code",
   "execution_count": 25,
   "id": "81e15489-338d-4b32-b564-02b639662e69",
   "metadata": {},
   "outputs": [],
   "source": [
    "#2. Multiple Inheritance:\n",
    "\n",
    "class super_class1:\n",
    "    def add(self,a,b):\n",
    "        return a+b;\n",
    "    # attributes and method definition\n",
    "    \n",
    "class super_class2:\n",
    "    def sub(self,a,b):\n",
    "        return a-b;\n",
    "    # attributes and method definition\n",
    "\n",
    "# inheritance\n",
    "class sub_class(super_class1,super_class2):\n",
    "    pass;\n",
    "    # attributes and method of super_class\n",
    "    # attributes and method of sub_class"
   ]
  },
  {
   "cell_type": "code",
   "execution_count": 26,
   "id": "f7225359-5b4e-408a-b8fd-51db8092ab14",
   "metadata": {},
   "outputs": [
    {
     "data": {
      "text/plain": [
       "3"
      ]
     },
     "execution_count": 26,
     "metadata": {},
     "output_type": "execute_result"
    }
   ],
   "source": [
    "a=sub_class()\n",
    "a.sub(9,6)"
   ]
  },
  {
   "cell_type": "code",
   "execution_count": 27,
   "id": "e698ef08-fca6-4a3f-bc0b-2cf1fe04735f",
   "metadata": {},
   "outputs": [
    {
     "data": {
      "text/plain": [
       "16"
      ]
     },
     "execution_count": 27,
     "metadata": {},
     "output_type": "execute_result"
    }
   ],
   "source": [
    "a.add(9,7)"
   ]
  },
  {
   "cell_type": "code",
   "execution_count": null,
   "id": "bd7990e6-31ba-4414-856a-ce54b68e1a98",
   "metadata": {},
   "outputs": [],
   "source": []
  },
  {
   "cell_type": "code",
   "execution_count": 28,
   "id": "798c9c7c-93a7-40a0-9f16-72093a425e4e",
   "metadata": {},
   "outputs": [],
   "source": [
    "#3. Multilevel Inheritance :\n",
    "\n",
    "class super_class1:\n",
    "    def add(self,a,b):\n",
    "        return a+b;\n",
    "    # attributes and method definition\n",
    "    \n",
    "class mid_class2(super_class1):\n",
    "    def sub(self,a,b):\n",
    "        return a-b;\n",
    "    # attributes and method definition\n",
    "\n",
    "# inheritance\n",
    "class sub_class(mid_class2):\n",
    "    pass;\n",
    "    # attributes and method of super_class\n",
    "    # attributes and method of sub_class"
   ]
  },
  {
   "cell_type": "code",
   "execution_count": 29,
   "id": "b3bdd5b6-649a-455f-a6ff-8323f49c6bd7",
   "metadata": {},
   "outputs": [
    {
     "data": {
      "text/plain": [
       "92"
      ]
     },
     "execution_count": 29,
     "metadata": {},
     "output_type": "execute_result"
    }
   ],
   "source": [
    "a=sub_class();\n",
    "a.add(90,2)"
   ]
  },
  {
   "cell_type": "code",
   "execution_count": 30,
   "id": "59cc5533-4a52-4bf3-99ae-109754a9a481",
   "metadata": {},
   "outputs": [
    {
     "data": {
      "text/plain": [
       "87"
      ]
     },
     "execution_count": 30,
     "metadata": {},
     "output_type": "execute_result"
    }
   ],
   "source": [
    "a.sub(89,2)"
   ]
  },
  {
   "cell_type": "code",
   "execution_count": null,
   "id": "b5c44620-7c61-48a6-867a-cc8eee1c1923",
   "metadata": {},
   "outputs": [],
   "source": []
  },
  {
   "cell_type": "code",
   "execution_count": 31,
   "id": "bde2205d-3626-484e-81cb-e6a43fe776c6",
   "metadata": {},
   "outputs": [],
   "source": [
    "#4. Hierarchical Inheritance: \n",
    "class super_class1:\n",
    "    def add(self,a,b):\n",
    "        return a+b;\n",
    "    # attributes and method definition\n",
    "    \n",
    "class mid_class2(super_class1):\n",
    "    pass;\n",
    "    # attributes and method definition\n",
    "\n",
    "# inheritance\n",
    "class sub_class(super_class1):\n",
    "    pass;\n",
    "    # attributes and method of super_class\n",
    "    # attributes and method of sub_class"
   ]
  },
  {
   "cell_type": "code",
   "execution_count": 32,
   "id": "f9c8dfe9-8d73-4732-adb4-77c9dd7a306f",
   "metadata": {},
   "outputs": [
    {
     "data": {
      "text/plain": [
       "10"
      ]
     },
     "execution_count": 32,
     "metadata": {},
     "output_type": "execute_result"
    }
   ],
   "source": [
    "a=mid_class2()\n",
    "b=sub_class()\n",
    "\n",
    "a.add(8,2)\n",
    "b.add(8,2)"
   ]
  },
  {
   "cell_type": "code",
   "execution_count": null,
   "id": "c8c9d9fa-b83b-4f87-b088-b0ad0647219a",
   "metadata": {},
   "outputs": [],
   "source": []
  },
  {
   "cell_type": "code",
   "execution_count": 33,
   "id": "bb8a565f-ecce-4d94-b035-457a4cd547a5",
   "metadata": {},
   "outputs": [],
   "source": [
    "#5. Hybrid Inheritance:\n",
    "class School:\n",
    "    def func1(self):\n",
    "        print(\"This function is in school.\")\n",
    "        \n",
    "class Student1(School):\n",
    "    def func2(self):\n",
    "        print(\"This function is in student 1. \")\n",
    "        \n",
    "class Student2(School):\n",
    "    def func3(self):\n",
    "        print(\"This function is in student 2.\")\n",
    "        \n",
    "class Student3(Student1, School):\n",
    "    def func4(self):\n",
    "        print(\"This function is in student 3.\")"
   ]
  },
  {
   "cell_type": "code",
   "execution_count": 35,
   "id": "1c340b21-b89f-4480-97f6-af22be80a6ec",
   "metadata": {},
   "outputs": [
    {
     "name": "stdout",
     "output_type": "stream",
     "text": [
      "This function is in school.\n",
      "This function is in student 1. \n"
     ]
    }
   ],
   "source": [
    "object = Student3()\n",
    "object.func1()\n",
    "object.func2()"
   ]
  },
  {
   "cell_type": "code",
   "execution_count": null,
   "id": "1b127639-9e26-482e-848c-a2f9c33d67d2",
   "metadata": {},
   "outputs": [],
   "source": []
  }
 ],
 "metadata": {
  "kernelspec": {
   "display_name": "Python 3 (ipykernel)",
   "language": "python",
   "name": "python3"
  },
  "language_info": {
   "codemirror_mode": {
    "name": "ipython",
    "version": 3
   },
   "file_extension": ".py",
   "mimetype": "text/x-python",
   "name": "python",
   "nbconvert_exporter": "python",
   "pygments_lexer": "ipython3",
   "version": "3.10.8"
  }
 },
 "nbformat": 4,
 "nbformat_minor": 5
}
