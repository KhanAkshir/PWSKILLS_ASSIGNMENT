{
 "cells": [
  {
   "cell_type": "code",
   "execution_count": 1,
   "id": "09f5c5c1-6f72-44ea-9c95-54f5fbab9102",
   "metadata": {},
   "outputs": [],
   "source": [
    "# Answers of the questions are given with following question number"
   ]
  },
  {
   "cell_type": "code",
   "execution_count": null,
   "id": "a01c0db4-9142-423e-b465-3d4fbb300383",
   "metadata": {},
   "outputs": [],
   "source": []
  },
  {
   "cell_type": "code",
   "execution_count": 44,
   "id": "84c2fc8e-4474-4660-abe7-e1f3d5b04478",
   "metadata": {},
   "outputs": [],
   "source": [
    "#Q1.) Create a vehicle class with an init method having instance variables as name_of_vehicle, max_speed\n",
    "#and average_of_vehicle.\n",
    "\n",
    "class vehicle:\n",
    "    def __init__(self,name_of_vehicle, max_speed, average_of_vehicle):\n",
    "        self.name_of_vehicle=name_of_vehicle;\n",
    "        self.max_speed=max_speed;\n",
    "        self.average_of_vehicle=average_of_vehicle;\n",
    "        \n"
   ]
  },
  {
   "cell_type": "code",
   "execution_count": null,
   "id": "f4bb5d84-ac35-4a80-b2d4-2041bdbe9043",
   "metadata": {},
   "outputs": [],
   "source": []
  },
  {
   "cell_type": "code",
   "execution_count": 45,
   "id": "74daec32-6036-49fb-939b-af59093f5bba",
   "metadata": {},
   "outputs": [],
   "source": [
    "#Q2. Create a child class car from the vehicle class created in Que 1, which will inherit the vehicle class.\n",
    "# Create a method named seating_capacity which takes capacity as an argument and returns the name of\n",
    "# the vehicle and its seating capacity.\n",
    "\n",
    "class car(vehicle):\n",
    "    def seating_capacity(self,capacity):\n",
    "        return capacity,self.name_of_vehicle;\n",
    "        \n",
    "        "
   ]
  },
  {
   "cell_type": "code",
   "execution_count": 46,
   "id": "d0b0ef9a-de28-4c94-8fdc-59f188ecca1a",
   "metadata": {},
   "outputs": [
    {
     "data": {
      "text/plain": [
       "(23, 'A')"
      ]
     },
     "execution_count": 46,
     "metadata": {},
     "output_type": "execute_result"
    }
   ],
   "source": [
    "suzuki=car(\"A\",\"B\",\"C\");\n",
    "suzuki.seating_capacity(23)"
   ]
  },
  {
   "cell_type": "code",
   "execution_count": null,
   "id": "953cb21a-642f-454c-acd5-355338a75219",
   "metadata": {},
   "outputs": [],
   "source": []
  },
  {
   "cell_type": "code",
   "execution_count": 47,
   "id": "2b25a5b4-5930-43e5-8544-e2493a7d099d",
   "metadata": {},
   "outputs": [],
   "source": [
    "#Q3. What is multiple inheritance? Write a python code to demonstrate multiple inheritance.\n",
    "\n",
    "'''\n",
    "When a child class inherit the property of 2 or more parent class such inheritance is called multiple inheritance \n",
    "'''\n",
    "class A:\n",
    "    def add(self,a,b):\n",
    "        return a+b;\n",
    "    \n",
    "class B:\n",
    "    def  sub(self,a,b):\n",
    "        return a-b;\n",
    "        \n",
    "class C(A,B):\n",
    "    pass"
   ]
  },
  {
   "cell_type": "code",
   "execution_count": 48,
   "id": "8e7d9918-3294-4e02-9066-c7d6106a76f0",
   "metadata": {},
   "outputs": [
    {
     "name": "stdout",
     "output_type": "stream",
     "text": [
      "13\n"
     ]
    }
   ],
   "source": [
    "a=C();\n",
    "print(a.add(9,4));"
   ]
  },
  {
   "cell_type": "code",
   "execution_count": 49,
   "id": "7b695ba4-182b-4ef9-be7b-c533a11399f7",
   "metadata": {},
   "outputs": [
    {
     "name": "stdout",
     "output_type": "stream",
     "text": [
      "5\n"
     ]
    }
   ],
   "source": [
    "print(a.sub(9,4))"
   ]
  },
  {
   "cell_type": "code",
   "execution_count": null,
   "id": "999b0aa0-4992-4937-bdc4-737f37a7b874",
   "metadata": {},
   "outputs": [],
   "source": []
  },
  {
   "cell_type": "code",
   "execution_count": 50,
   "id": "2c6521b1-0cad-425e-85bf-6d12cfc1a216",
   "metadata": {},
   "outputs": [],
   "source": [
    "#Q4. What are getter and setter in python?\n",
    "# Getters: These are the methods used in Object-Oriented Programming (OOPS) which helps to access the private attributes from a class.\n",
    "# Setters: These are the methods used in OOPS feature which helps to set the value to private attributes in a class.\n",
    "\n",
    "class D:\n",
    "    def __init__(self,a,b):\n",
    "        self.__a=a;\n",
    "        self.__b=b;\n",
    "    def get_a(self):\n",
    "        return self.__a;\n",
    "    def set_a(self,i):\n",
    "        self.__a=i;"
   ]
  },
  {
   "cell_type": "code",
   "execution_count": 51,
   "id": "1aa7e576-5d53-455a-89e9-f9fb165ccccd",
   "metadata": {},
   "outputs": [],
   "source": [
    "c=D(2,3)\n",
    "c.set_a(5)"
   ]
  },
  {
   "cell_type": "code",
   "execution_count": 52,
   "id": "0fb52de9-40f2-4f26-98a4-f6620e28b50f",
   "metadata": {},
   "outputs": [
    {
     "data": {
      "text/plain": [
       "5"
      ]
     },
     "execution_count": 52,
     "metadata": {},
     "output_type": "execute_result"
    }
   ],
   "source": [
    "c.get_a()"
   ]
  },
  {
   "cell_type": "code",
   "execution_count": null,
   "id": "5c48db90-253c-4605-832e-72838602d69e",
   "metadata": {},
   "outputs": [],
   "source": []
  },
  {
   "cell_type": "code",
   "execution_count": 53,
   "id": "361812a1-2c2e-4ee3-8e07-d15b37d2e49c",
   "metadata": {},
   "outputs": [
    {
     "name": "stdout",
     "output_type": "stream",
     "text": [
      "Barking\n"
     ]
    }
   ],
   "source": [
    "#Q5).What is method overriding in python? Write a python code to demonstrate method overriding.\n",
    "\n",
    "'''\n",
    "Method overriding is a feature of object-oriented programming languages where the subclass or child class \n",
    "can provide the program with specific characteristics or a specific implementation process of data\n",
    "provided that are already defined in the parent class or superclass.\n",
    "\n",
    "method overriding allows a child class to provide a specific implementation of a method that is \n",
    "already provided by one of its parent classes.\n",
    "\n",
    "'''\n",
    "#Example\n",
    "\n",
    "class Animal:  \n",
    "    def speak(self):  \n",
    "        print(\"speaking\")  \n",
    "class Dog(Animal):  \n",
    "    def speak(self):  \n",
    "        print(\"Barking\")  \n",
    "d = Dog()  \n",
    "d.speak()  \n"
   ]
  },
  {
   "cell_type": "code",
   "execution_count": null,
   "id": "09dc3920-7c86-4986-ab13-01bc8bf02ca9",
   "metadata": {},
   "outputs": [],
   "source": []
  }
 ],
 "metadata": {
  "kernelspec": {
   "display_name": "Python 3 (ipykernel)",
   "language": "python",
   "name": "python3"
  },
  "language_info": {
   "codemirror_mode": {
    "name": "ipython",
    "version": 3
   },
   "file_extension": ".py",
   "mimetype": "text/x-python",
   "name": "python",
   "nbconvert_exporter": "python",
   "pygments_lexer": "ipython3",
   "version": "3.10.8"
  }
 },
 "nbformat": 4,
 "nbformat_minor": 5
}
