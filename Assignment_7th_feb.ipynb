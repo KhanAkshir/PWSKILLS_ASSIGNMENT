{
 "cells": [
  {
   "cell_type": "code",
   "execution_count": 80,
   "id": "eb8e7d1b-acc7-4384-b9d4-5daa76c4e50d",
   "metadata": {},
   "outputs": [],
   "source": [
    "# Answers of the questions are given with respective question number"
   ]
  },
  {
   "cell_type": "code",
   "execution_count": null,
   "id": "bd2fc009-44b8-44fa-b14f-5c91330eb124",
   "metadata": {},
   "outputs": [],
   "source": []
  },
  {
   "cell_type": "code",
   "execution_count": 81,
   "id": "1d349c3e-008c-47b0-b66a-caee8c11f47f",
   "metadata": {},
   "outputs": [],
   "source": [
    "# Q1. You are writing code for a company. The requirement of the company is that you create a python\n",
    "# function that will check whether the password entered by the user is correct or not. The function should\n",
    "# take the password as input and return the string “Valid Password” if the entered password follows the\n",
    "# below-given password guidelines else it should return “Invalid Password”.\n",
    "# Note: \n",
    "# 1. The Password should contain at least two uppercase letters and at least two lowercase letters.\n",
    "# 2. The Password should contain at least a number and three special characters.\n",
    "# 3. The length of the password should be 10 characters long.\n",
    "\n",
    "def check_uppercase(s):\n",
    "    count=0;\n",
    "    for i in s:       \n",
    "        if i >='A' and i<='Z':\n",
    "            count+=1;\n",
    "            if count==2:\n",
    "                return True;\n",
    "    return False;\n",
    "##############################################################\n",
    "def check_lowercase(s):\n",
    "    count=0;\n",
    "    for i in s:       \n",
    "        if i >='a' and i<='z':\n",
    "            count+=1;\n",
    "            if count==2:\n",
    "                return True;\n",
    "    return False;\n",
    "##############################################################\n",
    "def check_num(s):\n",
    "    for i in s:       \n",
    "        if i >='1' and i<='9':\n",
    "            return True;\n",
    "    return False;\n",
    "\n",
    "#############################################################\n",
    "def chec_s_char(s):\n",
    "    count=0;\n",
    "    n='[@_!#$%^&*()<>?/\\|}{~:]';\n",
    "    for i in range(len(s)):\n",
    "        if s[i] in n:\n",
    "            count+=1;\n",
    "    \n",
    "    if count>=3:\n",
    "        return True;\n",
    "    else:\n",
    "        return False;\n",
    "#############################################################\n",
    "\n",
    "\n",
    "def password_check(s):            \n",
    "    if len(s)==10 and chec_s_char(s) and check_lowercase(s) and check_uppercase(s) and check_num(s):\n",
    "        return 'Valid Password';\n",
    "    \n",
    "    return 'Invalid Password';"
   ]
  },
  {
   "cell_type": "code",
   "execution_count": 82,
   "id": "0c87cf7e-8c4a-454b-9796-da5d33bdf117",
   "metadata": {},
   "outputs": [
    {
     "name": "stdin",
     "output_type": "stream",
     "text": [
      "Enter the password:  AKshir@#$1\n"
     ]
    },
    {
     "name": "stdout",
     "output_type": "stream",
     "text": [
      "Valid Password\n"
     ]
    }
   ],
   "source": [
    "password=input(\"Enter the password: \");\n",
    "print(password_check(password));"
   ]
  },
  {
   "cell_type": "code",
   "execution_count": null,
   "id": "cabbfc48-51c4-476e-80b5-95422d305390",
   "metadata": {},
   "outputs": [],
   "source": []
  },
  {
   "cell_type": "code",
   "execution_count": null,
   "id": "c5144b45-14bd-47e9-8a6c-a5da37487d5a",
   "metadata": {},
   "outputs": [],
   "source": []
  },
  {
   "cell_type": "code",
   "execution_count": null,
   "id": "91bf92d7-0d20-48ca-9f36-e1d3c731db07",
   "metadata": {},
   "outputs": [],
   "source": []
  },
  {
   "cell_type": "code",
   "execution_count": 50,
   "id": "0fd0d37c-b98f-4292-bb89-3bd813826258",
   "metadata": {},
   "outputs": [
    {
     "name": "stdout",
     "output_type": "stream",
     "text": [
      "True\n"
     ]
    }
   ],
   "source": [
    "#question 2\n",
    "'''Q2. Solve the below-given questions using at least one of the following:\n",
    "1. Lambda function\n",
    "2. Filter function\n",
    "3. map function\n",
    "4. List Comprehension'''\n",
    "\n",
    "#.)Check if the string starts with a particular letterY\n",
    "letter= lambda a: a.startswith('a')\n",
    "a=\"akshir\"\n",
    "print(letter(a))"
   ]
  },
  {
   "cell_type": "code",
   "execution_count": null,
   "id": "129633f9-0a36-457e-8849-c0c4fbb700dc",
   "metadata": {},
   "outputs": [],
   "source": []
  },
  {
   "cell_type": "code",
   "execution_count": 68,
   "id": "437e60cd-9ca7-46b3-b88e-151f8e9e4c89",
   "metadata": {},
   "outputs": [
    {
     "name": "stdout",
     "output_type": "stream",
     "text": [
      "True\n"
     ]
    }
   ],
   "source": [
    "#.)Check if the string is numeric.\n",
    "is_numeric=lambda a:a.isdigit()\n",
    "print(is_numeric(\"123\"))"
   ]
  },
  {
   "cell_type": "code",
   "execution_count": null,
   "id": "e8126781-2537-470f-96d7-94d9413e878e",
   "metadata": {},
   "outputs": [],
   "source": []
  },
  {
   "cell_type": "code",
   "execution_count": 69,
   "id": "3d63c26e-13fc-4ee8-8282-3300daa00396",
   "metadata": {},
   "outputs": [
    {
     "name": "stdout",
     "output_type": "stream",
     "text": [
      "[('orange', 80), ('mango', 99), ('grapes', 1000)]\n"
     ]
    }
   ],
   "source": [
    "#Sort a list of tuples having fruit names and their quantity. [(\"mango\",99),(\"orange\",80), (\"grapes\", 1000)-\n",
    "\n",
    "list_of_tup=[(\"mango\",99),(\"orange\",80), (\"grapes\", 1000)]\n",
    "\n",
    "list_of_tup.sort(key=lambda a:a[1])\n",
    "\n",
    "print(list_of_tup)"
   ]
  },
  {
   "cell_type": "code",
   "execution_count": null,
   "id": "42b94573-cf27-48d6-8dfa-bcf3fa8a3a48",
   "metadata": {},
   "outputs": [],
   "source": []
  },
  {
   "cell_type": "code",
   "execution_count": 70,
   "id": "8fe8438c-e74b-41f4-a18e-5045f69fbb99",
   "metadata": {},
   "outputs": [
    {
     "name": "stdout",
     "output_type": "stream",
     "text": [
      "[1, 4, 9, 16, 25, 36, 49, 64, 81, 100]\n"
     ]
    }
   ],
   "source": [
    "#Find the squares of numbers from 1 to 10.\n",
    "l=list(range(1,11))\n",
    "\n",
    "l_ans=list(map(lambda a:a**2,l))\n",
    "print(l_ans)"
   ]
  },
  {
   "cell_type": "code",
   "execution_count": null,
   "id": "1dce667f-f71e-4351-9da4-f357bd5e6bd5",
   "metadata": {},
   "outputs": [],
   "source": []
  },
  {
   "cell_type": "code",
   "execution_count": 92,
   "id": "20d749ec-e17d-4276-9785-0c248150738c",
   "metadata": {},
   "outputs": [
    {
     "data": {
      "text/plain": [
       "[1.0,\n",
       " 1.2599210498948734,\n",
       " 1.4422495703074083,\n",
       " 1.5874010519681996,\n",
       " 1.7099759466766968,\n",
       " 1.8171205928321394,\n",
       " 1.9129311827723894,\n",
       " 2.0,\n",
       " 2.080083823051904,\n",
       " 2.1544346900318834]"
      ]
     },
     "execution_count": 92,
     "metadata": {},
     "output_type": "execute_result"
    }
   ],
   "source": [
    "#Find the cube root of numbers from 1 to 10Y\n",
    "# cbrt () function\n",
    "#using map function\n",
    "import numpy as np;\n",
    "l=list(range(1,11));\n",
    "l_ans=list(map(lambda a:np.cbrt(a),l))\n",
    "l_ans"
   ]
  },
  {
   "cell_type": "code",
   "execution_count": null,
   "id": "3b7264f9-93df-479e-9f06-86ae693461f1",
   "metadata": {},
   "outputs": [],
   "source": []
  },
  {
   "cell_type": "code",
   "execution_count": 76,
   "id": "2ba2cb86-fd46-4cd1-a14d-d8f89f764fff",
   "metadata": {},
   "outputs": [
    {
     "name": "stdout",
     "output_type": "stream",
     "text": [
      "[1.0, 1.2599210498948734, 1.4422495703074083, 1.5874010519681996, 1.7099759466766968, 1.8171205928321394, 1.9129311827723894, 2.0, 2.080083823051904, 2.1544346900318834]\n"
     ]
    }
   ],
   "source": [
    "#Find the cube root of numbers from 1 to 10\n",
    "# cbrt () function\n",
    "#using list comprehension\n",
    "import numpy as np;\n",
    "l=list(range(1,11));\n",
    "l_ans=[np.cbrt(i) for i in l]\n",
    "print(l_ans)"
   ]
  },
  {
   "cell_type": "code",
   "execution_count": null,
   "id": "6064d04d-eab9-4b2a-b429-440be43cafd6",
   "metadata": {},
   "outputs": [],
   "source": []
  },
  {
   "cell_type": "code",
   "execution_count": 79,
   "id": "a5e98ec7-a88b-4ba2-8f8b-9077f9904d4d",
   "metadata": {},
   "outputs": [
    {
     "name": "stdout",
     "output_type": "stream",
     "text": [
      "True\n"
     ]
    }
   ],
   "source": [
    "#Check if a given number is even\n",
    "\n",
    "s=lambda a:a%2==0;\n",
    "print(s(4))"
   ]
  },
  {
   "cell_type": "code",
   "execution_count": null,
   "id": "a60d3663-442e-4ecb-aedf-64dae7066cf0",
   "metadata": {},
   "outputs": [],
   "source": []
  },
  {
   "cell_type": "code",
   "execution_count": 85,
   "id": "8a388383-f622-4fd5-a7b5-a81f8b7468bb",
   "metadata": {},
   "outputs": [
    {
     "data": {
      "text/plain": [
       "[1, 3, 5, 7, 9]"
      ]
     },
     "execution_count": 85,
     "metadata": {},
     "output_type": "execute_result"
    }
   ],
   "source": [
    "# Filter odd numbers from the given list.\n",
    "# [1,2,3,4,5,6,7,8,9,10]\n",
    "l=list(range(1,11));\n",
    "l=list(filter(lambda a:a%2!=0 ,l))\n",
    "l"
   ]
  },
  {
   "cell_type": "code",
   "execution_count": null,
   "id": "54bd7ca0-1a75-4eaf-b9f6-a1fa3bdd6ad7",
   "metadata": {},
   "outputs": [],
   "source": []
  },
  {
   "cell_type": "code",
   "execution_count": 91,
   "id": "51d52c64-c39f-4dd5-ac35-d1b311f24025",
   "metadata": {},
   "outputs": [
    {
     "name": "stdout",
     "output_type": "stream",
     "text": [
      "positive list : [0, 1, 2, 3, 4, 5, 6]\n",
      "nrgative list : [-5, -4, -3, -2, -1]\n"
     ]
    }
   ],
   "source": [
    "# Sort a list of integers into positive and negative integers lists.\n",
    "l=[1,2,3,4,5,6,-1,-2,-3,-4,-5,0]\n",
    "\n",
    "positive_l=list(filter(lambda a:a>=0,l));\n",
    "positive_l.sort()\n",
    "negative_l=list(filter(lambda a:a<0,l));\n",
    "negative_l.sort()\n",
    "\n",
    "print(\"positive list :\",positive_l)\n",
    "print(\"nrgative list :\",negative_l)"
   ]
  },
  {
   "cell_type": "code",
   "execution_count": null,
   "id": "21ce0426-4c2e-49fa-bda9-704b185ba936",
   "metadata": {},
   "outputs": [],
   "source": []
  }
 ],
 "metadata": {
  "kernelspec": {
   "display_name": "Python 3 (ipykernel)",
   "language": "python",
   "name": "python3"
  },
  "language_info": {
   "codemirror_mode": {
    "name": "ipython",
    "version": 3
   },
   "file_extension": ".py",
   "mimetype": "text/x-python",
   "name": "python",
   "nbconvert_exporter": "python",
   "pygments_lexer": "ipython3",
   "version": "3.10.8"
  }
 },
 "nbformat": 4,
 "nbformat_minor": 5
}
