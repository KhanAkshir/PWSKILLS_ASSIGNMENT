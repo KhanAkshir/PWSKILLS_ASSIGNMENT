{
 "cells": [
  {
   "cell_type": "code",
   "execution_count": null,
   "id": "4c7f8968-a653-481c-a231-1aa589247c0a",
   "metadata": {},
   "outputs": [],
   "source": [
    "# Q1. What are the three measures of central tendency?\n",
    "\n",
    "mean ,median and mode"
   ]
  },
  {
   "cell_type": "code",
   "execution_count": null,
   "id": "f2c86d03-0ff3-48dd-9d9d-8dee2d15ec78",
   "metadata": {},
   "outputs": [],
   "source": []
  },
  {
   "cell_type": "code",
   "execution_count": null,
   "id": "978d137f-f23c-43fb-80cf-35fd1f21635b",
   "metadata": {},
   "outputs": [],
   "source": [
    "# Q2. What is the difference between the mean, median, and mode? How are they used to measure the\n",
    "# central tendency of a dataset?\n",
    "\n",
    "mean = It is used to find the average of all the elements\n",
    "median =It helps to find the central element of data set\n",
    "mode=It finds the element with maximum occurence"
   ]
  },
  {
   "cell_type": "code",
   "execution_count": null,
   "id": "fd5a36b4-9d74-43b6-b0a1-81d27f48304d",
   "metadata": {},
   "outputs": [],
   "source": []
  },
  {
   "cell_type": "code",
   "execution_count": 1,
   "id": "d187d8b6-a7e8-4b75-8e00-b9f31c9186eb",
   "metadata": {},
   "outputs": [],
   "source": [
    "import numpy as np"
   ]
  },
  {
   "cell_type": "code",
   "execution_count": 7,
   "id": "b3a6ba2f-cd43-4906-9d4f-cadc83b500ac",
   "metadata": {},
   "outputs": [
    {
     "data": {
      "text/plain": [
       "177.01875"
      ]
     },
     "execution_count": 7,
     "metadata": {},
     "output_type": "execute_result"
    }
   ],
   "source": [
    "# Q3. Measure the three measures of central tendency for the given height data:\n",
    "h=[178,177,176,177,178.2,178,175,179,180,175,178.9,176.2,177,172.5,178,176.5]\n",
    "\n",
    "np.mean(h)"
   ]
  },
  {
   "cell_type": "code",
   "execution_count": 9,
   "id": "ef3a67c2-0914-4777-9f4d-76e03c14325e",
   "metadata": {},
   "outputs": [
    {
     "data": {
      "text/plain": [
       "177.0"
      ]
     },
     "execution_count": 9,
     "metadata": {},
     "output_type": "execute_result"
    }
   ],
   "source": [
    "np.median(h)"
   ]
  },
  {
   "cell_type": "code",
   "execution_count": null,
   "id": "f4556f52-f071-43e0-a1d4-ccb08ef7f7d9",
   "metadata": {},
   "outputs": [],
   "source": []
  },
  {
   "cell_type": "code",
   "execution_count": 12,
   "id": "49426778-853b-41c6-9840-b172017790dc",
   "metadata": {},
   "outputs": [],
   "source": [
    "from scipy import stats"
   ]
  },
  {
   "cell_type": "code",
   "execution_count": 13,
   "id": "0366d05a-4aac-44d8-85ae-3ea69d937f68",
   "metadata": {},
   "outputs": [
    {
     "name": "stderr",
     "output_type": "stream",
     "text": [
      "/tmp/ipykernel_426/1674535383.py:1: FutureWarning: Unlike other reduction functions (e.g. `skew`, `kurtosis`), the default behavior of `mode` typically preserves the axis it acts along. In SciPy 1.11.0, this behavior will change: the default value of `keepdims` will become False, the `axis` over which the statistic is taken will be eliminated, and the value None will no longer be accepted. Set `keepdims` to True or False to avoid this warning.\n",
      "  stats.mode(h)\n"
     ]
    },
    {
     "data": {
      "text/plain": [
       "ModeResult(mode=array([177.]), count=array([3]))"
      ]
     },
     "execution_count": 13,
     "metadata": {},
     "output_type": "execute_result"
    }
   ],
   "source": [
    "stats.mode(h)"
   ]
  },
  {
   "cell_type": "code",
   "execution_count": 14,
   "id": "fafcde33-1822-42b9-838b-31b86dfb7a67",
   "metadata": {},
   "outputs": [
    {
     "data": {
      "text/plain": [
       "1.7885814036548633"
      ]
     },
     "execution_count": 14,
     "metadata": {},
     "output_type": "execute_result"
    }
   ],
   "source": [
    "# Q4. Find the standard deviation for the given data:\n",
    "h=[178,177,176,177,178.2,178,175,179,180,175,178.9,176.2,177,172.5,178,176.5]\n",
    "np.std(h)"
   ]
  },
  {
   "cell_type": "code",
   "execution_count": null,
   "id": "bedd8e55-d185-4088-97ba-68bd1500f887",
   "metadata": {},
   "outputs": [],
   "source": []
  },
  {
   "cell_type": "code",
   "execution_count": 23,
   "id": "61cd391a-b142-4c70-8405-3152e0d553a7",
   "metadata": {},
   "outputs": [],
   "source": [
    "# Q5. How are measures of dispersion such as range, variance, and standard deviation used to describe\n",
    "# the spread of a dataset? Provide an example.\n",
    "\n",
    "range: It is the difference between maximum ans minimum element of dataset and more the ranfe more \n",
    "       spread the dataset\n",
    "    \n",
    "Variance: it is square of the mean of how far elements are from the mean of dataset\n",
    "\n",
    "standard deviation :I is sq root of variance gives the mean of how far elements are from the \n",
    "mean of dataset"
   ]
  },
  {
   "cell_type": "code",
   "execution_count": 24,
   "id": "f8031eeb-edb6-4dae-a434-44eaf4869d6e",
   "metadata": {},
   "outputs": [],
   "source": [
    "# example:\n",
    "\n",
    "l=[1,2,3,4,5,6,7];\n",
    "\n",
    "# range=7-1=6"
   ]
  },
  {
   "cell_type": "code",
   "execution_count": 25,
   "id": "a1b081f0-2ca8-4255-8535-51e67606a76e",
   "metadata": {},
   "outputs": [
    {
     "data": {
      "text/plain": [
       "4.0"
      ]
     },
     "execution_count": 25,
     "metadata": {},
     "output_type": "execute_result"
    }
   ],
   "source": [
    "# variance \n",
    "np.var(l)"
   ]
  },
  {
   "cell_type": "code",
   "execution_count": 27,
   "id": "819eda6a-7dfc-4c94-a1df-0f98e8e6cfc5",
   "metadata": {},
   "outputs": [
    {
     "data": {
      "text/plain": [
       "2.0"
      ]
     },
     "execution_count": 27,
     "metadata": {},
     "output_type": "execute_result"
    }
   ],
   "source": [
    "#standard deviation\n",
    "np.std(l)"
   ]
  },
  {
   "cell_type": "code",
   "execution_count": null,
   "id": "395cf734-64b6-4dff-9473-51cf7b3baf31",
   "metadata": {},
   "outputs": [],
   "source": []
  },
  {
   "cell_type": "code",
   "execution_count": null,
   "id": "a1f0c942-5ad0-4635-9e77-83b89c333b1f",
   "metadata": {},
   "outputs": [],
   "source": [
    "# Q6. What is a Venn diagram?\n",
    "\n",
    "''' \n",
    "A diagram representing mathematical or logical sets pictorially as circles or \n",
    "closed curves within an enclosing rectangle (the universal set), common elements \n",
    "of the sets being represented by intersections of the circles.\n",
    "'''"
   ]
  },
  {
   "cell_type": "code",
   "execution_count": null,
   "id": "3e722a14-a829-4f4a-bba7-7240129b633d",
   "metadata": {},
   "outputs": [],
   "source": []
  },
  {
   "cell_type": "code",
   "execution_count": 29,
   "id": "b8879496-fb83-496d-9855-615b72739903",
   "metadata": {},
   "outputs": [
    {
     "name": "stdout",
     "output_type": "stream",
     "text": [
      "{2, 6}\n"
     ]
    }
   ],
   "source": [
    "# Q7. For the two given sets A = (2,3,4,5,6,7) & B = (0,2,6,8,10). Find:\n",
    "# (i) A ⋂ B\n",
    "# (ii) A ⋃ B\n",
    "\n",
    "A = {2,3,4,5,6,7}\n",
    "B = {0,2,6,8,10}\n",
    "print(A.intersection(B))"
   ]
  },
  {
   "cell_type": "code",
   "execution_count": null,
   "id": "6df45357-404a-486b-9702-fceef299d6d0",
   "metadata": {},
   "outputs": [],
   "source": []
  },
  {
   "cell_type": "code",
   "execution_count": 30,
   "id": "52748a79-701e-45be-9119-d41daa64eb53",
   "metadata": {},
   "outputs": [
    {
     "name": "stdout",
     "output_type": "stream",
     "text": [
      "{0, 2, 3, 4, 5, 6, 7, 8, 10}\n"
     ]
    }
   ],
   "source": [
    "A = {2,3,4,5,6,7}\n",
    "B = {0,2,6,8,10}\n",
    "print(A.union(B))"
   ]
  },
  {
   "cell_type": "code",
   "execution_count": null,
   "id": "59ceda79-2261-4481-958f-f16a933cfd05",
   "metadata": {},
   "outputs": [],
   "source": []
  },
  {
   "cell_type": "code",
   "execution_count": null,
   "id": "0598d415-8d25-43cc-a48e-61757c7732f8",
   "metadata": {},
   "outputs": [],
   "source": []
  },
  {
   "cell_type": "code",
   "execution_count": null,
   "id": "257323da-8fee-4545-9d0c-bdc94b039575",
   "metadata": {},
   "outputs": [],
   "source": [
    "# Q8. What do you understand about skewness in data?\n",
    "\n",
    "'''\n",
    "Skewness is a measurement of the distortion of symmetrical distribution \n",
    "or asymmetry in a data set. Skewness is demonstrated on a bell curve when \n",
    "data points are not distributed symmetrically to the left and right sides \n",
    "of the median on a bell curve. If the bell curve is shifted to the left or \n",
    "the right, it is said to be skewed.\n",
    "'''"
   ]
  },
  {
   "cell_type": "code",
   "execution_count": null,
   "id": "43c89f73-6c8f-4306-8e0f-8e0a629fdf73",
   "metadata": {},
   "outputs": [],
   "source": []
  },
  {
   "cell_type": "code",
   "execution_count": null,
   "id": "01dc5a7b-0095-4f59-98b7-c7325970edad",
   "metadata": {},
   "outputs": [],
   "source": [
    "# Q9. If a data is right skewed then what will be the position of median with respect to mean?\n",
    "\n",
    "'''\n",
    "If the distribution of data is skewed to the right, the mode is often less \n",
    "than the median, which is less than the mean.\n",
    "'''"
   ]
  },
  {
   "cell_type": "code",
   "execution_count": null,
   "id": "f8867096-ec07-42b9-80ee-fcfaa9b8fe11",
   "metadata": {},
   "outputs": [],
   "source": []
  },
  {
   "cell_type": "code",
   "execution_count": null,
   "id": "b7e25ebf-db86-4497-b2c0-555a3e1ed78d",
   "metadata": {},
   "outputs": [],
   "source": []
  },
  {
   "cell_type": "code",
   "execution_count": null,
   "id": "4c94d65a-8232-4f68-8d4c-28a4486ca128",
   "metadata": {},
   "outputs": [],
   "source": [
    "# Q10. Explain the difference between covariance and correlation. How are these measures used in\n",
    "# statistical analysis?\n",
    "\n",
    "'''\n",
    "Covariance is an indicator of the extent to which 2 random variables are \n",
    "dependent on each other. A higher number denotes higher dependency.\n",
    "\n",
    "\n",
    "Correlation is a statistical measure that indicates how strongly two variables are related.\n",
    "\n",
    "\n",
    "\n",
    "Covariance and correlation greatly aid in understanding the relationship between two \n",
    "continuous variables. Covariance indicates whether two variables fluctuate in the \n",
    "same (positive covariance) or opposite direction (negative covariance). The \n",
    "numerical value of covariance has no importance; only the sign is relevant. \n",
    "Correlation, on the other hand, describes how a change in one variable leads \n",
    "to a change in the percentage of the second variable. Correlation ranges from \n",
    "-1 to +1. If the correlation value is 0, it suggests that there is no linear \n",
    "link between the variables, but another functional relationship may exist.\n",
    "\n",
    "'''"
   ]
  },
  {
   "cell_type": "code",
   "execution_count": null,
   "id": "bd1abf70-0529-4694-9bb9-e9f608a49bae",
   "metadata": {},
   "outputs": [],
   "source": []
  },
  {
   "cell_type": "code",
   "execution_count": 31,
   "id": "097e583e-b0a0-4f26-b1fa-19f62b3169a6",
   "metadata": {},
   "outputs": [
    {
     "data": {
      "text/plain": [
       "4.0"
      ]
     },
     "execution_count": 31,
     "metadata": {},
     "output_type": "execute_result"
    }
   ],
   "source": [
    "# Q11. What is the formula for calculating the sample mean? Provide an example calculation for a\n",
    "# dataset.\n",
    "\n",
    " # x̄ = ( Σ xi ) / n.\n",
    "    \n",
    "l=[1,2,3,4,5,6,7]\n",
    "\n",
    "np.mean(l)\n"
   ]
  },
  {
   "cell_type": "code",
   "execution_count": null,
   "id": "e359e056-83d4-43d0-bd24-eb0797e540bb",
   "metadata": {},
   "outputs": [],
   "source": []
  },
  {
   "cell_type": "code",
   "execution_count": 33,
   "id": "e7cc0e65-8655-4027-882b-eb874e13d5fc",
   "metadata": {},
   "outputs": [],
   "source": [
    "# Q12. For a normal distribution data what is the relationship between its measure of central tendency?\n",
    "\n",
    "mean = median = mode"
   ]
  },
  {
   "cell_type": "code",
   "execution_count": null,
   "id": "76726db8-3046-4839-b0b3-672d77f1c590",
   "metadata": {},
   "outputs": [],
   "source": []
  },
  {
   "cell_type": "code",
   "execution_count": 35,
   "id": "78aad2f0-9729-4359-bf41-cd1097f872bc",
   "metadata": {},
   "outputs": [],
   "source": [
    "# Q13. How is covariance different from correlation?\n",
    "\n",
    "'''\n",
    "Covariance is an indicator of the extent to which 2 random variables are \n",
    "dependent on each other. A higher number denotes higher dependency.\n",
    "\n",
    "Correlation is a statistical measure that indicates how strongly two variables are related.\n",
    "\n",
    "'''\n",
    "\n"
   ]
  },
  {
   "cell_type": "code",
   "execution_count": null,
   "id": "ed687db9-23fd-4344-b62f-9d4366469b40",
   "metadata": {},
   "outputs": [],
   "source": []
  },
  {
   "cell_type": "code",
   "execution_count": 38,
   "id": "1ce2aa24-b20f-4552-aa66-80bc2367efec",
   "metadata": {},
   "outputs": [
    {
     "name": "stdout",
     "output_type": "stream",
     "text": [
      "3.5\n",
      "1431.5714285714287\n"
     ]
    }
   ],
   "source": [
    "# Q14. How do outliers affect measures of central tendency and dispersion? Provide an example.\n",
    "\n",
    "'''\n",
    "Outliers Measures of central tendency and dispersion can give misleading impressions of\n",
    "a data set if the set contains one or more outliers. An outlier is a value that is much\n",
    "greater than or much less than most of the other values in a data set. \n",
    "\n",
    "'''\n",
    "l=[1,2,3,4,5,6]\n",
    "print(np.mean(l))\n",
    "# example\n",
    "l=[1,2,3,4,5,6,10000]\n",
    "\n",
    "# here 10000 is  the out  lier as it affects the mean by very wide range of value\n",
    "\n",
    "print(np.mean(l))"
   ]
  },
  {
   "cell_type": "code",
   "execution_count": null,
   "id": "9d15e3c4-c2e2-4d1f-a02c-e67487a45d62",
   "metadata": {},
   "outputs": [],
   "source": []
  }
 ],
 "metadata": {
  "kernelspec": {
   "display_name": "Python 3 (ipykernel)",
   "language": "python",
   "name": "python3"
  },
  "language_info": {
   "codemirror_mode": {
    "name": "ipython",
    "version": 3
   },
   "file_extension": ".py",
   "mimetype": "text/x-python",
   "name": "python",
   "nbconvert_exporter": "python",
   "pygments_lexer": "ipython3",
   "version": "3.10.8"
  }
 },
 "nbformat": 4,
 "nbformat_minor": 5
}
