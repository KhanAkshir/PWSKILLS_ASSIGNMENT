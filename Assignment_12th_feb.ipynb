{
 "cells": [
  {
   "cell_type": "code",
   "execution_count": 1,
   "id": "11204b10-c4ef-4ed1-8393-d78ef24367b8",
   "metadata": {},
   "outputs": [],
   "source": [
    "# Answers of questions are given with respective question number"
   ]
  },
  {
   "cell_type": "code",
   "execution_count": null,
   "id": "161148c1-5be5-429b-ac63-495f34c881c4",
   "metadata": {},
   "outputs": [],
   "source": []
  },
  {
   "cell_type": "code",
   "execution_count": null,
   "id": "47d4bfdd-c878-4ad8-bf31-453ce138804a",
   "metadata": {},
   "outputs": [],
   "source": [
    "#Question 1 \n",
    "An exception is an event, which occurs during the execution of a program that \n",
    "disrupts the normal flow of the program's instructions. In general, when a \n",
    "Python script encounters a situation that it cannot cope with, it raises an \n",
    "exception. An exception is a Python object that represents an error.\n",
    "\n",
    "An Error might indicate critical problems that a reasonable application should\n",
    "not try to catch, while an Exception might indicate conditions that an application \n",
    "should try to catch. Errors are a form of an unchecked exception and are \n",
    "irrecoverable like an OutOfMemoryError, which a programmer should not try to handle."
   ]
  },
  {
   "cell_type": "code",
   "execution_count": null,
   "id": "af96f857-95dc-4ef5-8392-dd66cb1fd8d5",
   "metadata": {},
   "outputs": [],
   "source": []
  },
  {
   "cell_type": "code",
   "execution_count": 33,
   "id": "d0871add-6a04-41a2-af82-65e0e67377c4",
   "metadata": {},
   "outputs": [
    {
     "ename": "ZeroDivisionError",
     "evalue": "division by zero",
     "output_type": "error",
     "traceback": [
      "\u001b[0;31m---------------------------------------------------------------------------\u001b[0m",
      "\u001b[0;31mZeroDivisionError\u001b[0m                         Traceback (most recent call last)",
      "Cell \u001b[0;32mIn[33], line 6\u001b[0m\n\u001b[1;32m      2\u001b[0m \u001b[38;5;124;03m'''if an exception is not handled then it may cause the program to stop if it is not properly'''\u001b[39;00m\n\u001b[1;32m      4\u001b[0m \u001b[38;5;66;03m#for example\u001b[39;00m\n\u001b[0;32m----> 6\u001b[0m a\u001b[38;5;241m=\u001b[39m\u001b[38;5;241;43m90\u001b[39;49m\u001b[38;5;241;43m/\u001b[39;49m\u001b[38;5;241;43m0\u001b[39;49m;\n\u001b[1;32m      8\u001b[0m \u001b[38;5;28mprint\u001b[39m(\u001b[38;5;124m\"\u001b[39m\u001b[38;5;124mI am learning dsm through pwskills\u001b[39m\u001b[38;5;124m\"\u001b[39m)\n",
      "\u001b[0;31mZeroDivisionError\u001b[0m: division by zero"
     ]
    }
   ],
   "source": [
    "#Question 2\n",
    "'''if an exception is not handled then it may cause the program to stop if it is not properly'''\n",
    "\n",
    "#for example\n",
    "\n",
    "a=90/0;\n",
    "\n",
    "print(\"I am learning dsm through pwskills\")"
   ]
  },
  {
   "cell_type": "code",
   "execution_count": 35,
   "id": "d0665d23-6262-46e2-95e4-9c571d358039",
   "metadata": {},
   "outputs": [],
   "source": [
    "'''\n",
    "as we can see above theexception 90/0 is not handled so the next \n",
    "line print(\"I am learning dsm through pwskills\") was also not executed.\n",
    "\n",
    "'''\n",
    "\n"
   ]
  },
  {
   "cell_type": "code",
   "execution_count": null,
   "id": "1031cd97-a8ce-489a-b661-003714a3632a",
   "metadata": {},
   "outputs": [],
   "source": []
  },
  {
   "cell_type": "code",
   "execution_count": 36,
   "id": "100c7923-668b-4721-b5e8-731ce6ec3509",
   "metadata": {},
   "outputs": [
    {
     "name": "stdout",
     "output_type": "stream",
     "text": [
      "Ivalid  division by zero\n"
     ]
    }
   ],
   "source": [
    "#Question 3\n",
    "\n",
    "'''\n",
    "Tty and except is used to handle the exception in pyhton \n",
    "\n",
    "'''\n",
    "\n",
    "#example\n",
    "\n",
    "try:\n",
    "    print(90/0);\n",
    "except Exception as e:\n",
    "    print(\"Ivalid \",e)\n",
    "    \n"
   ]
  },
  {
   "cell_type": "code",
   "execution_count": null,
   "id": "1090d23c-4d1e-4663-a218-aab5b4422a7f",
   "metadata": {},
   "outputs": [],
   "source": []
  },
  {
   "cell_type": "code",
   "execution_count": 37,
   "id": "de24a346-c2e5-4590-8c33-6f620c187640",
   "metadata": {},
   "outputs": [
    {
     "name": "stdout",
     "output_type": "stream",
     "text": [
      "Hello\n",
      "Nothing went wrong\n"
     ]
    }
   ],
   "source": [
    "#question 4\n",
    "'''\n",
    "try and else: in try and else else execute only and only when try is executed sucessfully and\n",
    "except is not executed \n",
    "'''\n",
    "#example\n",
    "\n",
    "try:\n",
    "    print(\"Hello\")\n",
    "except:\n",
    "    print(\"Something went wrong\")\n",
    "else:\n",
    "    print(\"Nothing went wrong\")\n",
    "\n",
    "\n"
   ]
  },
  {
   "cell_type": "code",
   "execution_count": 38,
   "id": "c18f66f7-d34c-4ed4-9445-159a02435328",
   "metadata": {},
   "outputs": [
    {
     "name": "stdout",
     "output_type": "stream",
     "text": [
      "Something went wrong\n",
      "The try...except block is finished\n"
     ]
    }
   ],
   "source": [
    "\n",
    "'''\n",
    "finally :code under finally will be executed doesnt matter whether exception occur or not\n",
    "'''\n",
    "\n",
    "#example\n",
    "try:\n",
    "    a=3/0\n",
    "except:\n",
    "    print(\"Something went wrong\")\n",
    "else:\n",
    "    print(\"Nothing went wrong\")\n",
    "finally:\n",
    "    print(\"The try...except block is finished\")\n"
   ]
  },
  {
   "cell_type": "code",
   "execution_count": 39,
   "id": "f2ad77a4-aa11-4ced-85f2-f00d99afb178",
   "metadata": {},
   "outputs": [
    {
     "ename": "Exception",
     "evalue": "Sorry, no numbers below zero",
     "output_type": "error",
     "traceback": [
      "\u001b[0;31m---------------------------------------------------------------------------\u001b[0m",
      "\u001b[0;31mException\u001b[0m                                 Traceback (most recent call last)",
      "Cell \u001b[0;32mIn[39], line 10\u001b[0m\n\u001b[1;32m      7\u001b[0m x \u001b[38;5;241m=\u001b[39m \u001b[38;5;241m-\u001b[39m\u001b[38;5;241m1\u001b[39m\n\u001b[1;32m      9\u001b[0m \u001b[38;5;28;01mif\u001b[39;00m x \u001b[38;5;241m<\u001b[39m \u001b[38;5;241m0\u001b[39m:\n\u001b[0;32m---> 10\u001b[0m     \u001b[38;5;28;01mraise\u001b[39;00m \u001b[38;5;167;01mException\u001b[39;00m(\u001b[38;5;124m\"\u001b[39m\u001b[38;5;124mSorry, no numbers below zero\u001b[39m\u001b[38;5;124m\"\u001b[39m);\n",
      "\u001b[0;31mException\u001b[0m: Sorry, no numbers below zero"
     ]
    }
   ],
   "source": [
    "'''\n",
    "raise:The raise keyword is used to raise an exception.\n",
    "'''\n",
    "\n",
    "#example\n",
    "\n",
    "x = -1\n",
    "\n",
    "if x < 0:\n",
    "    raise Exception(\"Sorry, no numbers below zero\");\n",
    "    \n"
   ]
  },
  {
   "cell_type": "code",
   "execution_count": null,
   "id": "47f7b4b8-c80f-42b2-ba21-afff627e0f5c",
   "metadata": {},
   "outputs": [],
   "source": []
  },
  {
   "cell_type": "code",
   "execution_count": null,
   "id": "090fd9af-139d-41e1-b307-ce4526edf9f5",
   "metadata": {},
   "outputs": [],
   "source": [
    "#Question 5\n",
    "Custom Exceptions in Python:\n",
    "Sometimes based on project requirement, a programmer needs to create \n",
    "his own exceptions and raise explicitly for corresponding scenarios. \n",
    "Such types of exceptions are called customized Exceptions or Programmatic Exceptions. \n",
    "We can raise a custom exception by using the keyword ‘raise’.\n",
    "\n",
    "\n"
   ]
  },
  {
   "cell_type": "code",
   "execution_count": 40,
   "id": "2578c58c-f33d-445d-abca-886fc7371c19",
   "metadata": {},
   "outputs": [],
   "source": [
    "# example\n",
    "# suppose we want to make an exception for negative age\n",
    "\n",
    "class check_age(Exception):\n",
    "    def __init__(self,message):\n",
    "        self.message=message;"
   ]
  },
  {
   "cell_type": "code",
   "execution_count": 41,
   "id": "d843209a-eb59-4747-b656-74528847831a",
   "metadata": {},
   "outputs": [],
   "source": [
    "def validate_age(age):\n",
    "     if age<0:\n",
    "        raise check_age(\"Invalid\");\n",
    "    "
   ]
  },
  {
   "cell_type": "code",
   "execution_count": 42,
   "id": "4762c570-608f-457f-b53f-065921181fe2",
   "metadata": {},
   "outputs": [
    {
     "name": "stdout",
     "output_type": "stream",
     "text": [
      "Invalid\n"
     ]
    }
   ],
   "source": [
    "try:\n",
    "    a=-23\n",
    "    validate_age(a)\n",
    "    print(\"my age is\",a);\n",
    "except Exception as e:\n",
    "    print(e)"
   ]
  },
  {
   "cell_type": "code",
   "execution_count": null,
   "id": "16074c04-07d6-470b-9d2a-de42de748fb8",
   "metadata": {},
   "outputs": [],
   "source": []
  },
  {
   "cell_type": "code",
   "execution_count": 43,
   "id": "c943dae4-4b75-4f93-b288-4c3bd5f23cb7",
   "metadata": {},
   "outputs": [
    {
     "name": "stdout",
     "output_type": "stream",
     "text": [
      "are are didnt took birth\n"
     ]
    }
   ],
   "source": [
    "#quesyion 6\n",
    "class check_age(Exception):\n",
    "    def __init__(self,msg):\n",
    "        self.msg=msg;\n",
    "def validateage(age):\n",
    "    if(age<0):\n",
    "        raise check_age(\"negative age is invalid\")\n",
    "    elif(age>200):\n",
    "        raise check_age(\"died\")\n",
    "    else:\n",
    "        raise check_age(\"ok ok\")\n",
    "        \n",
    "try:\n",
    "    validateage(-23);\n",
    "except check_age as c:\n",
    "    print(\"Invalid: \",c)"
   ]
  },
  {
   "cell_type": "code",
   "execution_count": null,
   "id": "a376aa8f-2b0e-4580-9e3e-7141724eabb0",
   "metadata": {},
   "outputs": [],
   "source": []
  }
 ],
 "metadata": {
  "kernelspec": {
   "display_name": "Python 3 (ipykernel)",
   "language": "python",
   "name": "python3"
  },
  "language_info": {
   "codemirror_mode": {
    "name": "ipython",
    "version": 3
   },
   "file_extension": ".py",
   "mimetype": "text/x-python",
   "name": "python",
   "nbconvert_exporter": "python",
   "pygments_lexer": "ipython3",
   "version": "3.10.8"
  }
 },
 "nbformat": 4,
 "nbformat_minor": 5
}
