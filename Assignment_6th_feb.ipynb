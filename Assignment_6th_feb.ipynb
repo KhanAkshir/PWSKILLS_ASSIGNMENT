{
 "cells": [
  {
   "cell_type": "code",
   "execution_count": 83,
   "id": "7369360d-3c11-4c6b-97fd-6364402deb73",
   "metadata": {},
   "outputs": [],
   "source": [
    "# Answers of questions are given with respective question numbers; "
   ]
  },
  {
   "cell_type": "code",
   "execution_count": null,
   "id": "f161050a-57da-4862-8092-162fb9a4a869",
   "metadata": {},
   "outputs": [],
   "source": []
  },
  {
   "cell_type": "code",
   "execution_count": 1,
   "id": "74b65a57-612a-4c76-ac8f-8cb1b28f901a",
   "metadata": {},
   "outputs": [],
   "source": [
    "#question 1\n",
    "list1 = [1,2,3,4, [44,55,66, True], False, (34,56,78,89,34), {1,2,3,3,2,1}, {1:34, \"key2\": \n",
    "[55, 67, 78, 89], 4: (45,22, 61, 34)}, [56, 'data science'], 'Machine Learning']\n",
    "\n",
    "def product(l):\n",
    "    l_ans=[];\n",
    "    ans=1;\n",
    "    for i in l:\n",
    "        if type(i)==int:\n",
    "            l_ans.append(i);\n",
    "        elif type(i)==list or type(i)==set or type(i)==tuple :\n",
    "            for j in i:\n",
    "                if type(j)==int:\n",
    "                    l_ans.append(j);\n",
    "        elif  type(i)==dict:\n",
    "            for j in i.values():\n",
    "                if type(j)==int:\n",
    "                    l_ans.append(j);\n",
    "                elif type(j)==list or type(j)==set or type(j)==tuple :\n",
    "                    for l in j:\n",
    "                        if type(l)==int:\n",
    "                            l_ans.append(l);\n",
    "            for j in i.keys():\n",
    "                if type(j)==int:\n",
    "                    l_ans.append(j);\n",
    "        else:\n",
    "            continue;\n",
    "        \n",
    "    \n",
    " \n",
    "    for i in l_ans:\n",
    "        ans*=i;\n",
    "    \n",
    "    return ans,l_ans;"
   ]
  },
  {
   "cell_type": "code",
   "execution_count": 2,
   "id": "44183d5d-1ab5-481d-a672-a53f7d0184b0",
   "metadata": {},
   "outputs": [
    {
     "name": "stdout",
     "output_type": "stream",
     "text": [
      "product of  [1, 2, 3, 4, 44, 55, 66, 34, 56, 78, 89, 34, 1, 2, 3, 34, 55, 67, 78, 89, 45, 22, 61, 34, 1, 4, 56] is  4134711838987085478833841242112000\n"
     ]
    }
   ],
   "source": [
    "\n",
    "print(\"product of \",product(list1)[1],\"is \",product(list1)[0]);"
   ]
  },
  {
   "cell_type": "code",
   "execution_count": null,
   "id": "43b0e5da-7615-4032-abe0-0b771ad97ee9",
   "metadata": {},
   "outputs": [],
   "source": []
  },
  {
   "cell_type": "code",
   "execution_count": 3,
   "id": "d187b085-bba7-4858-b280-1e1dddf89e3e",
   "metadata": {},
   "outputs": [],
   "source": [
    "#question 2\n",
    "def incript(message):\n",
    "    message=message.lower();\n",
    "    ans=\"\";\n",
    "    for i in range(len(message)):\n",
    "        if message[i]=='a':\n",
    "            ans+='z';\n",
    "        elif message[i]=='b':\n",
    "            ans+='y';\n",
    "        elif message[i]=='c':\n",
    "            ans+='x';\n",
    "        elif message[i]==' ':\n",
    "            ans+='$';\n",
    "        else:\n",
    "            ans+=message[i]\n",
    "    return ans;"
   ]
  },
  {
   "cell_type": "code",
   "execution_count": 4,
   "id": "2d620b90-bfde-4799-a0ea-dbfad41e390e",
   "metadata": {},
   "outputs": [
    {
     "name": "stdin",
     "output_type": "stream",
     "text": [
      "Enter the message:  I want to become a Data Scientist.\n"
     ]
    },
    {
     "data": {
      "text/plain": [
       "'i$wznt$to$yexome$z$dztz$sxientist.'"
      ]
     },
     "execution_count": 4,
     "metadata": {},
     "output_type": "execute_result"
    }
   ],
   "source": [
    "message=input(\"Enter the message: \")\n",
    "\n",
    "incript(message)"
   ]
  },
  {
   "cell_type": "code",
   "execution_count": null,
   "id": "1e76a54c-b561-4f64-994b-1c6836897c7d",
   "metadata": {},
   "outputs": [],
   "source": []
  },
  {
   "cell_type": "code",
   "execution_count": null,
   "id": "a7166f95-67f3-4ee8-b378-572b69dd750f",
   "metadata": {},
   "outputs": [],
   "source": []
  }
 ],
 "metadata": {
  "kernelspec": {
   "display_name": "Python 3 (ipykernel)",
   "language": "python",
   "name": "python3"
  },
  "language_info": {
   "codemirror_mode": {
    "name": "ipython",
    "version": 3
   },
   "file_extension": ".py",
   "mimetype": "text/x-python",
   "name": "python",
   "nbconvert_exporter": "python",
   "pygments_lexer": "ipython3",
   "version": "3.10.8"
  }
 },
 "nbformat": 4,
 "nbformat_minor": 5
}
