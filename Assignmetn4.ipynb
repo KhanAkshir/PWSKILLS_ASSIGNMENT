{
 "cells": [
  {
   "cell_type": "code",
   "execution_count": 34,
   "id": "38c1a57c-65c0-4cd7-9892-c299130f1dfc",
   "metadata": {},
   "outputs": [],
   "source": [
    "# answers are provided with respective question numbers"
   ]
  },
  {
   "cell_type": "code",
   "execution_count": 48,
   "id": "8a47d45d-ddc8-409f-9118-7409bc1128c1",
   "metadata": {},
   "outputs": [
    {
     "name": "stdout",
     "output_type": "stream",
     "text": [
      "1\n",
      "2\n",
      "3\n"
     ]
    }
   ],
   "source": [
    "#1\n",
    "#For loop is used when we know the number of iteration is fixed or known;\n",
    "#for example:\n",
    "l=[1,2,3]\n",
    "for i in l:\n",
    "    print(i)\n"
   ]
  },
  {
   "cell_type": "code",
   "execution_count": 49,
   "id": "816bd77d-12bb-4565-8935-fbda24d14983",
   "metadata": {},
   "outputs": [
    {
     "name": "stdout",
     "output_type": "stream",
     "text": [
      "1\n",
      "2\n",
      "3\n"
     ]
    }
   ],
   "source": [
    "# while loop is used whe we need to run loop till certain condition\n",
    "l=[1,2,3,4]\n",
    "i=0;\n",
    "while i<3:\n",
    "    print(l[i])\n",
    "    i+=1;"
   ]
  },
  {
   "cell_type": "code",
   "execution_count": null,
   "id": "f43955a7-e846-448f-964e-8a278beb9b65",
   "metadata": {},
   "outputs": [],
   "source": []
  },
  {
   "cell_type": "code",
   "execution_count": 50,
   "id": "d9208495-dc77-4ec6-b37c-29f927fcb406",
   "metadata": {},
   "outputs": [
    {
     "name": "stdout",
     "output_type": "stream",
     "text": [
      "55\n",
      "3628800\n"
     ]
    }
   ],
   "source": [
    "#question 2\n",
    "i=1;\n",
    "sum_=0;\n",
    "product=1;\n",
    "while  i<=10:\n",
    "    sum_+=i;\n",
    "    product*=i;\n",
    "    i=i+1;\n",
    "    \n",
    "print(sum_)\n",
    "print(product)\n",
    "    "
   ]
  },
  {
   "cell_type": "code",
   "execution_count": null,
   "id": "518e8ec3-46f5-4f03-865a-f3fecf9ec9f1",
   "metadata": {},
   "outputs": [],
   "source": []
  },
  {
   "cell_type": "code",
   "execution_count": 52,
   "id": "3bd6e6d3-9342-448f-8f94-fcdca6efd1a6",
   "metadata": {},
   "outputs": [
    {
     "name": "stdin",
     "output_type": "stream",
     "text": [
      "Enter the um of units comsumed:   310\n"
     ]
    },
    {
     "name": "stdout",
     "output_type": "stream",
     "text": [
      "2250.0\n"
     ]
    }
   ],
   "source": [
    "#question 3\n",
    "total_bill=0;\n",
    "units=int(input(\"Enter the um of units comsumed:  \"));\n",
    "i=1;\n",
    "while i<=units:\n",
    "    if i<=100:\n",
    "        total_bill+=4.5;\n",
    "    elif i>100 and i<=200:\n",
    "        total_bill+=6;\n",
    "    elif i>200 and i<=300:\n",
    "        total_bill+=10;\n",
    "    else:\n",
    "        total_bill+=20;\n",
    "    i+=1;\n",
    "\n",
    "print(total_bill)"
   ]
  },
  {
   "cell_type": "code",
   "execution_count": null,
   "id": "f0222bdf-302e-492a-9ebc-4fff56bd7747",
   "metadata": {},
   "outputs": [],
   "source": []
  },
  {
   "cell_type": "code",
   "execution_count": 53,
   "id": "160c7066-d280-44ba-907f-b5b8e8fc495f",
   "metadata": {},
   "outputs": [
    {
     "name": "stdout",
     "output_type": "stream",
     "text": [
      "[0, 2, 4, 5, 6, 8, 10, 12, 14, 15, 16, 18, 20, 22, 24, 25, 26, 28, 30, 32, 34, 35, 36, 38, 40, 42, 44, 45, 46, 48, 50, 52, 54, 55, 56, 58, 60, 62, 64, 65, 66, 68, 70, 72, 74, 75, 76, 78, 80, 82, 84, 85, 86, 88, 90, 92, 94, 95, 96, 98, 100]\n"
     ]
    }
   ],
   "source": [
    "#4\n",
    "l=[i for i in range(101)];\n",
    "l_ans=[];\n",
    "for i in l:\n",
    "    n=i**3;\n",
    "    if(n%4==0 or n%5==0):\n",
    "        l_ans.append(i);\n",
    "        \n",
    "print(l_ans);\n",
    "        "
   ]
  },
  {
   "cell_type": "code",
   "execution_count": 54,
   "id": "d6c7f2d9-2b7d-4460-a9cd-b61eeb72f919",
   "metadata": {},
   "outputs": [],
   "source": [
    "# question number 4 using list comprehension\n",
    "l=[i for i in range(101) if i**3%4 ==0 or i**3%5==0]"
   ]
  },
  {
   "cell_type": "code",
   "execution_count": 55,
   "id": "d0463c8d-2e51-413b-a9ac-08c5065cd70d",
   "metadata": {},
   "outputs": [
    {
     "data": {
      "text/plain": [
       "[0,\n",
       " 2,\n",
       " 4,\n",
       " 5,\n",
       " 6,\n",
       " 8,\n",
       " 10,\n",
       " 12,\n",
       " 14,\n",
       " 15,\n",
       " 16,\n",
       " 18,\n",
       " 20,\n",
       " 22,\n",
       " 24,\n",
       " 25,\n",
       " 26,\n",
       " 28,\n",
       " 30,\n",
       " 32,\n",
       " 34,\n",
       " 35,\n",
       " 36,\n",
       " 38,\n",
       " 40,\n",
       " 42,\n",
       " 44,\n",
       " 45,\n",
       " 46,\n",
       " 48,\n",
       " 50,\n",
       " 52,\n",
       " 54,\n",
       " 55,\n",
       " 56,\n",
       " 58,\n",
       " 60,\n",
       " 62,\n",
       " 64,\n",
       " 65,\n",
       " 66,\n",
       " 68,\n",
       " 70,\n",
       " 72,\n",
       " 74,\n",
       " 75,\n",
       " 76,\n",
       " 78,\n",
       " 80,\n",
       " 82,\n",
       " 84,\n",
       " 85,\n",
       " 86,\n",
       " 88,\n",
       " 90,\n",
       " 92,\n",
       " 94,\n",
       " 95,\n",
       " 96,\n",
       " 98,\n",
       " 100]"
      ]
     },
     "execution_count": 55,
     "metadata": {},
     "output_type": "execute_result"
    }
   ],
   "source": [
    "l"
   ]
  },
  {
   "cell_type": "code",
   "execution_count": 59,
   "id": "cc050708-204f-4bb2-96a6-39069687ff7c",
   "metadata": {},
   "outputs": [
    {
     "name": "stdout",
     "output_type": "stream",
     "text": [
      "12\n"
     ]
    }
   ],
   "source": [
    "#5\n",
    "string = \"I want to become a data scientist\"\n",
    "count=0;\n",
    "for it in string:\n",
    "    i=it.lower();\n",
    "    if(i=='a'  or i=='e' or i=='i' or i=='o' or i=='u'):\n",
    "        count+=1;\n",
    "print(count)"
   ]
  },
  {
   "cell_type": "code",
   "execution_count": null,
   "id": "82d167f6-d7ea-46ea-bf3b-427986c5937d",
   "metadata": {},
   "outputs": [],
   "source": []
  }
 ],
 "metadata": {
  "kernelspec": {
   "display_name": "Python 3 (ipykernel)",
   "language": "python",
   "name": "python3"
  },
  "language_info": {
   "codemirror_mode": {
    "name": "ipython",
    "version": 3
   },
   "file_extension": ".py",
   "mimetype": "text/x-python",
   "name": "python",
   "nbconvert_exporter": "python",
   "pygments_lexer": "ipython3",
   "version": "3.10.8"
  }
 },
 "nbformat": 4,
 "nbformat_minor": 5
}
